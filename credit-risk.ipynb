{
 "cells": [
  {
   "cell_type": "markdown",
   "id": "2feb2457",
   "metadata": {
    "id": "KJqp9AANOCtf",
    "papermill": {
     "duration": 0.022545,
     "end_time": "2024-04-16T12:43:37.951932",
     "exception": false,
     "start_time": "2024-04-16T12:43:37.929387",
     "status": "completed"
    },
    "tags": []
   },
   "source": [
    "---\n",
    "\n",
    "# **Análise de Dados** | Credit risk\n",
    "Por [Aderbal Wallisson](https://www.linkedin.com/in/aderbal-wallisson/)\n",
    "\n",
    "---"
   ]
  },
  {
   "cell_type": "markdown",
   "id": "395b063f",
   "metadata": {
    "id": "d9jDtUbDOE1-",
    "papermill": {
     "duration": 0.020243,
     "end_time": "2024-04-16T12:43:37.995166",
     "exception": false,
     "start_time": "2024-04-16T12:43:37.974923",
     "status": "completed"
    },
    "tags": []
   },
   "source": [
    "# **Tópicos**\n",
    "\n",
    "<ol type=\"1\">\n",
    "  <li>Introdução;</li>\n",
    "  <li>Exploração de dados;</li>\n",
    "  <li>Transformação e limpeza de dados;</li>\n",
    "  <li>Visualização de dados;</li>\n",
    "  <li>Storytelling.</li>\n",
    "</ol>\n"
   ]
  },
  {
   "cell_type": "markdown",
   "id": "c9377914",
   "metadata": {
    "id": "SmoHgt-lwkpD",
    "papermill": {
     "duration": 0.023,
     "end_time": "2024-04-16T12:43:38.039011",
     "exception": false,
     "start_time": "2024-04-16T12:43:38.016011",
     "status": "completed"
    },
    "tags": []
   },
   "source": [
    "---"
   ]
  },
  {
   "cell_type": "markdown",
   "id": "eb8610b0",
   "metadata": {
    "id": "GABI6OW8OfQ2",
    "papermill": {
     "duration": 0.020201,
     "end_time": "2024-04-16T12:43:38.079620",
     "exception": false,
     "start_time": "2024-04-16T12:43:38.059419",
     "status": "completed"
    },
    "tags": []
   },
   "source": [
    "# **Aulas**"
   ]
  },
  {
   "cell_type": "markdown",
   "id": "d1af0507",
   "metadata": {
    "id": "muD1vxozykSC",
    "papermill": {
     "duration": 0.020342,
     "end_time": "2024-04-16T12:43:38.120593",
     "exception": false,
     "start_time": "2024-04-16T12:43:38.100251",
     "status": "completed"
    },
    "tags": []
   },
   "source": [
    "## 1\\. Introdução"
   ]
  },
  {
   "cell_type": "markdown",
   "id": "0563dcd8",
   "metadata": {
    "id": "xnsoZc_wI0sl",
    "papermill": {
     "duration": 0.020312,
     "end_time": "2024-04-16T12:43:38.161642",
     "exception": false,
     "start_time": "2024-04-16T12:43:38.141330",
     "status": "completed"
    },
    "tags": []
   },
   "source": [
    "[Kaggle](https://www.kaggle.com/) é a maior comunidade online de ciência de dados e aprendizado de máquina. A plataforma permite que usuários encontrem e publiquem conjuntos de **dados**, construam e compartilhem **notebooks** (como este do Google Colab) e participem de **competições** (que pagam muito dinheiro as vezes) e desafios de dados. "
   ]
  },
  {
   "cell_type": "markdown",
   "id": "4937a844",
   "metadata": {
    "id": "7BqRKqRGJ0i2",
    "papermill": {
     "duration": 0.020348,
     "end_time": "2024-04-16T12:43:38.202618",
     "exception": false,
     "start_time": "2024-04-16T12:43:38.182270",
     "status": "completed"
    },
    "tags": []
   },
   "source": [
    "> Vamos publicar nosso notebook de exercícios na plataforma web do Kaggle para que você possa compartilhar tudo o que você aprendeu neste curso e compor o seu portfólio."
   ]
  },
  {
   "cell_type": "markdown",
   "id": "c10b3a77",
   "metadata": {
    "id": "4rRCvy_UURrM",
    "papermill": {
     "duration": 0.020057,
     "end_time": "2024-04-16T12:43:38.243146",
     "exception": false,
     "start_time": "2024-04-16T12:43:38.223089",
     "status": "completed"
    },
    "tags": []
   },
   "source": [
    "## 2\\. Exploração de Dados"
   ]
  },
  {
   "cell_type": "markdown",
   "id": "9766d999",
   "metadata": {
    "id": "ByX7SUjNKk2K",
    "papermill": {
     "duration": 0.020047,
     "end_time": "2024-04-16T12:43:38.283456",
     "exception": false,
     "start_time": "2024-04-16T12:43:38.263409",
     "status": "completed"
    },
    "tags": []
   },
   "source": [
    "Os dados de crédito que serão explorados estão presentes neste neste [link](https://raw.githubusercontent.com/andre-marcos-perez/ebac-course-utils/develop/dataset/credito.csv). Os dados estão no formato CSV e contém informações sobre clientes de uma instituição financeira. Em especial, o  interesse é explicar a segunda coluna, chamada de **default**, que indica se um cliente é adimplente(`default = 0`), ou inadimplente (`default = 1`), ou seja, entender o porque um cliente deixa de honrar com suas dívidas baseado no comportamento de outros atributos, como salário, escolaridade e movimentação financeira. Uma descrição completa dos atributos está abaixo."
   ]
  },
  {
   "cell_type": "markdown",
   "id": "edbd79fc",
   "metadata": {
    "id": "34x6dra_9Hjq",
    "papermill": {
     "duration": 0.020047,
     "end_time": "2024-04-16T12:43:38.323835",
     "exception": false,
     "start_time": "2024-04-16T12:43:38.303788",
     "status": "completed"
    },
    "tags": []
   },
   "source": [
    "> O atributo de interesse (`default`) é conhecido como **variável resposta** ou **variável dependente**, já os demais atributos que buscam explicá-la (`idade`, `salário`, etc.) são conhecidas como **variáveis explicatívas**, **variáveis independentes** ou até **variáveis preditoras**."
   ]
  },
  {
   "cell_type": "markdown",
   "id": "2acde1c3",
   "metadata": {
    "id": "Z5Fd0NSVLnwE",
    "papermill": {
     "duration": 0.019925,
     "end_time": "2024-04-16T12:43:38.364132",
     "exception": false,
     "start_time": "2024-04-16T12:43:38.344207",
     "status": "completed"
    },
    "tags": []
   },
   "source": [
    "\n",
    "\n",
    "| Coluna  | Descrição |\n",
    "| ------- | --------- |\n",
    "| id      | Número da conta |\n",
    "| default | Indica se o cliente é adimplente (0) ou inadimplente (1) |\n",
    "| idade   | --- |\n",
    "| sexo    | --- |\n",
    "| depedentes | --- |\n",
    "| escolaridade | --- |\n",
    "| estado_civil | --- |\n",
    "| salario_anual | Faixa do salario mensal multiplicado por 12 |\n",
    "| tipo_cartao | Categoria do cartao: blue, silver, gold e platinium |\n",
    "| meses_de_relacionamento | Quantidade de meses desde a abertura da conta |\n",
    "| qtd_produtos | Quantidade de produtos contratados |\n",
    "| iteracoes_12m | Quantidade de iteracoes com o cliente no último ano |\n",
    "| meses_inatico_12m | Quantidade de meses que o cliente ficou inativo no último ano |\n",
    "| limite_credito | Valor do limite do cartão de crédito |\n",
    "| valor_transacoes_12m | Soma total do valor das transações no cartão de crédito no último ano |\n",
    "| qtd_transacoes_12m | Quantidade total de transações no cartão de crédito no último ano |\n",
    "\n"
   ]
  },
  {
   "cell_type": "code",
   "execution_count": 1,
   "id": "2a029168",
   "metadata": {
    "execution": {
     "iopub.execute_input": "2024-04-16T12:43:38.406973Z",
     "iopub.status.busy": "2024-04-16T12:43:38.406272Z",
     "iopub.status.idle": "2024-04-16T12:43:40.809605Z",
     "shell.execute_reply": "2024-04-16T12:43:40.808653Z"
    },
    "id": "2y8zAhgFK1rs",
    "papermill": {
     "duration": 2.427908,
     "end_time": "2024-04-16T12:43:40.812340",
     "exception": false,
     "start_time": "2024-04-16T12:43:38.384432",
     "status": "completed"
    },
    "tags": []
   },
   "outputs": [],
   "source": [
    "# Importando as bibliotecas\n",
    "import pandas as pd\n",
    "import seaborn as sns\n",
    "import matplotlib.pyplot as plt\n",
    "import warnings"
   ]
  },
  {
   "cell_type": "code",
   "execution_count": 2,
   "id": "7480a5d7",
   "metadata": {
    "execution": {
     "iopub.execute_input": "2024-04-16T12:43:40.855941Z",
     "iopub.status.busy": "2024-04-16T12:43:40.855358Z",
     "iopub.status.idle": "2024-04-16T12:43:40.861094Z",
     "shell.execute_reply": "2024-04-16T12:43:40.859933Z"
    },
    "papermill": {
     "duration": 0.030151,
     "end_time": "2024-04-16T12:43:40.863364",
     "exception": false,
     "start_time": "2024-04-16T12:43:40.833213",
     "status": "completed"
    },
    "tags": []
   },
   "outputs": [],
   "source": [
    "sns.set_style(\"whitegrid\")\n",
    "warnings.filterwarnings(\"ignore\")"
   ]
  },
  {
   "cell_type": "code",
   "execution_count": 3,
   "id": "90f113ee",
   "metadata": {
    "execution": {
     "iopub.execute_input": "2024-04-16T12:43:40.906233Z",
     "iopub.status.busy": "2024-04-16T12:43:40.905774Z",
     "iopub.status.idle": "2024-04-16T12:43:40.987644Z",
     "shell.execute_reply": "2024-04-16T12:43:40.986316Z"
    },
    "id": "Oc1o3fzfKdhx",
    "papermill": {
     "duration": 0.106826,
     "end_time": "2024-04-16T12:43:40.990710",
     "exception": false,
     "start_time": "2024-04-16T12:43:40.883884",
     "status": "completed"
    },
    "tags": []
   },
   "outputs": [],
   "source": [
    "# Lendo o dataset\n",
    "df = pd.read_csv('/kaggle/input/credita-dataset/credit_dataset.csv', na_values='na')"
   ]
  },
  {
   "cell_type": "code",
   "execution_count": 4,
   "id": "1093b59f",
   "metadata": {
    "execution": {
     "iopub.execute_input": "2024-04-16T12:43:41.033949Z",
     "iopub.status.busy": "2024-04-16T12:43:41.033524Z",
     "iopub.status.idle": "2024-04-16T12:43:41.061871Z",
     "shell.execute_reply": "2024-04-16T12:43:41.060658Z"
    },
    "id": "QCKDeFk_KtrW",
    "papermill": {
     "duration": 0.052812,
     "end_time": "2024-04-16T12:43:41.064650",
     "exception": false,
     "start_time": "2024-04-16T12:43:41.011838",
     "status": "completed"
    },
    "tags": []
   },
   "outputs": [
    {
     "data": {
      "text/html": [
       "<div>\n",
       "<style scoped>\n",
       "    .dataframe tbody tr th:only-of-type {\n",
       "        vertical-align: middle;\n",
       "    }\n",
       "\n",
       "    .dataframe tbody tr th {\n",
       "        vertical-align: top;\n",
       "    }\n",
       "\n",
       "    .dataframe thead th {\n",
       "        text-align: right;\n",
       "    }\n",
       "</style>\n",
       "<table border=\"1\" class=\"dataframe\">\n",
       "  <thead>\n",
       "    <tr style=\"text-align: right;\">\n",
       "      <th></th>\n",
       "      <th>id</th>\n",
       "      <th>default</th>\n",
       "      <th>idade</th>\n",
       "      <th>sexo</th>\n",
       "      <th>dependentes</th>\n",
       "      <th>escolaridade</th>\n",
       "      <th>estado_civil</th>\n",
       "      <th>salario_anual</th>\n",
       "      <th>tipo_cartao</th>\n",
       "      <th>meses_de_relacionamento</th>\n",
       "      <th>qtd_produtos</th>\n",
       "      <th>iteracoes_12m</th>\n",
       "      <th>meses_inativo_12m</th>\n",
       "      <th>limite_credito</th>\n",
       "      <th>valor_transacoes_12m</th>\n",
       "      <th>qtd_transacoes_12m</th>\n",
       "    </tr>\n",
       "  </thead>\n",
       "  <tbody>\n",
       "    <tr>\n",
       "      <th>0</th>\n",
       "      <td>768805383</td>\n",
       "      <td>0</td>\n",
       "      <td>45</td>\n",
       "      <td>M</td>\n",
       "      <td>3</td>\n",
       "      <td>ensino medio</td>\n",
       "      <td>casado</td>\n",
       "      <td>$60K - $80K</td>\n",
       "      <td>blue</td>\n",
       "      <td>39</td>\n",
       "      <td>5</td>\n",
       "      <td>3</td>\n",
       "      <td>1</td>\n",
       "      <td>12.691,51</td>\n",
       "      <td>1.144,90</td>\n",
       "      <td>42</td>\n",
       "    </tr>\n",
       "    <tr>\n",
       "      <th>1</th>\n",
       "      <td>818770008</td>\n",
       "      <td>0</td>\n",
       "      <td>49</td>\n",
       "      <td>F</td>\n",
       "      <td>5</td>\n",
       "      <td>mestrado</td>\n",
       "      <td>solteiro</td>\n",
       "      <td>menos que $40K</td>\n",
       "      <td>blue</td>\n",
       "      <td>44</td>\n",
       "      <td>6</td>\n",
       "      <td>2</td>\n",
       "      <td>1</td>\n",
       "      <td>8.256,96</td>\n",
       "      <td>1.291,45</td>\n",
       "      <td>33</td>\n",
       "    </tr>\n",
       "    <tr>\n",
       "      <th>2</th>\n",
       "      <td>713982108</td>\n",
       "      <td>0</td>\n",
       "      <td>51</td>\n",
       "      <td>M</td>\n",
       "      <td>3</td>\n",
       "      <td>mestrado</td>\n",
       "      <td>casado</td>\n",
       "      <td>$80K - $120K</td>\n",
       "      <td>blue</td>\n",
       "      <td>36</td>\n",
       "      <td>4</td>\n",
       "      <td>0</td>\n",
       "      <td>1</td>\n",
       "      <td>3.418,56</td>\n",
       "      <td>1.887,72</td>\n",
       "      <td>20</td>\n",
       "    </tr>\n",
       "    <tr>\n",
       "      <th>3</th>\n",
       "      <td>769911858</td>\n",
       "      <td>0</td>\n",
       "      <td>40</td>\n",
       "      <td>F</td>\n",
       "      <td>4</td>\n",
       "      <td>ensino medio</td>\n",
       "      <td>NaN</td>\n",
       "      <td>menos que $40K</td>\n",
       "      <td>blue</td>\n",
       "      <td>34</td>\n",
       "      <td>3</td>\n",
       "      <td>1</td>\n",
       "      <td>4</td>\n",
       "      <td>3.313,03</td>\n",
       "      <td>1.171,56</td>\n",
       "      <td>20</td>\n",
       "    </tr>\n",
       "    <tr>\n",
       "      <th>4</th>\n",
       "      <td>709106358</td>\n",
       "      <td>0</td>\n",
       "      <td>40</td>\n",
       "      <td>M</td>\n",
       "      <td>3</td>\n",
       "      <td>sem educacao formal</td>\n",
       "      <td>casado</td>\n",
       "      <td>$60K - $80K</td>\n",
       "      <td>blue</td>\n",
       "      <td>21</td>\n",
       "      <td>5</td>\n",
       "      <td>0</td>\n",
       "      <td>1</td>\n",
       "      <td>4.716,22</td>\n",
       "      <td>816,08</td>\n",
       "      <td>28</td>\n",
       "    </tr>\n",
       "    <tr>\n",
       "      <th>5</th>\n",
       "      <td>713061558</td>\n",
       "      <td>0</td>\n",
       "      <td>44</td>\n",
       "      <td>M</td>\n",
       "      <td>2</td>\n",
       "      <td>mestrado</td>\n",
       "      <td>casado</td>\n",
       "      <td>$40K - $60K</td>\n",
       "      <td>blue</td>\n",
       "      <td>36</td>\n",
       "      <td>3</td>\n",
       "      <td>2</td>\n",
       "      <td>1</td>\n",
       "      <td>4.010,69</td>\n",
       "      <td>1.088,07</td>\n",
       "      <td>24</td>\n",
       "    </tr>\n",
       "    <tr>\n",
       "      <th>6</th>\n",
       "      <td>810347208</td>\n",
       "      <td>0</td>\n",
       "      <td>51</td>\n",
       "      <td>M</td>\n",
       "      <td>4</td>\n",
       "      <td>NaN</td>\n",
       "      <td>casado</td>\n",
       "      <td>$120K +</td>\n",
       "      <td>gold</td>\n",
       "      <td>46</td>\n",
       "      <td>6</td>\n",
       "      <td>3</td>\n",
       "      <td>1</td>\n",
       "      <td>34.516,72</td>\n",
       "      <td>1.330,87</td>\n",
       "      <td>31</td>\n",
       "    </tr>\n",
       "    <tr>\n",
       "      <th>7</th>\n",
       "      <td>818906208</td>\n",
       "      <td>0</td>\n",
       "      <td>32</td>\n",
       "      <td>M</td>\n",
       "      <td>0</td>\n",
       "      <td>ensino medio</td>\n",
       "      <td>NaN</td>\n",
       "      <td>$60K - $80K</td>\n",
       "      <td>silver</td>\n",
       "      <td>27</td>\n",
       "      <td>2</td>\n",
       "      <td>2</td>\n",
       "      <td>2</td>\n",
       "      <td>29.081,49</td>\n",
       "      <td>1.538,32</td>\n",
       "      <td>36</td>\n",
       "    </tr>\n",
       "    <tr>\n",
       "      <th>8</th>\n",
       "      <td>710930508</td>\n",
       "      <td>0</td>\n",
       "      <td>37</td>\n",
       "      <td>M</td>\n",
       "      <td>3</td>\n",
       "      <td>sem educacao formal</td>\n",
       "      <td>solteiro</td>\n",
       "      <td>$60K - $80K</td>\n",
       "      <td>blue</td>\n",
       "      <td>36</td>\n",
       "      <td>5</td>\n",
       "      <td>0</td>\n",
       "      <td>2</td>\n",
       "      <td>22.352,50</td>\n",
       "      <td>1.350,14</td>\n",
       "      <td>24</td>\n",
       "    </tr>\n",
       "    <tr>\n",
       "      <th>9</th>\n",
       "      <td>719661558</td>\n",
       "      <td>0</td>\n",
       "      <td>48</td>\n",
       "      <td>M</td>\n",
       "      <td>2</td>\n",
       "      <td>mestrado</td>\n",
       "      <td>solteiro</td>\n",
       "      <td>$80K - $120K</td>\n",
       "      <td>blue</td>\n",
       "      <td>36</td>\n",
       "      <td>6</td>\n",
       "      <td>3</td>\n",
       "      <td>3</td>\n",
       "      <td>11.656,41</td>\n",
       "      <td>1.441,73</td>\n",
       "      <td>32</td>\n",
       "    </tr>\n",
       "  </tbody>\n",
       "</table>\n",
       "</div>"
      ],
      "text/plain": [
       "          id  default  idade sexo  dependentes         escolaridade  \\\n",
       "0  768805383        0     45    M            3         ensino medio   \n",
       "1  818770008        0     49    F            5             mestrado   \n",
       "2  713982108        0     51    M            3             mestrado   \n",
       "3  769911858        0     40    F            4         ensino medio   \n",
       "4  709106358        0     40    M            3  sem educacao formal   \n",
       "5  713061558        0     44    M            2             mestrado   \n",
       "6  810347208        0     51    M            4                  NaN   \n",
       "7  818906208        0     32    M            0         ensino medio   \n",
       "8  710930508        0     37    M            3  sem educacao formal   \n",
       "9  719661558        0     48    M            2             mestrado   \n",
       "\n",
       "  estado_civil   salario_anual tipo_cartao  meses_de_relacionamento  \\\n",
       "0       casado     $60K - $80K        blue                       39   \n",
       "1     solteiro  menos que $40K        blue                       44   \n",
       "2       casado    $80K - $120K        blue                       36   \n",
       "3          NaN  menos que $40K        blue                       34   \n",
       "4       casado     $60K - $80K        blue                       21   \n",
       "5       casado     $40K - $60K        blue                       36   \n",
       "6       casado         $120K +        gold                       46   \n",
       "7          NaN     $60K - $80K      silver                       27   \n",
       "8     solteiro     $60K - $80K        blue                       36   \n",
       "9     solteiro    $80K - $120K        blue                       36   \n",
       "\n",
       "   qtd_produtos  iteracoes_12m  meses_inativo_12m limite_credito  \\\n",
       "0             5              3                  1      12.691,51   \n",
       "1             6              2                  1       8.256,96   \n",
       "2             4              0                  1       3.418,56   \n",
       "3             3              1                  4       3.313,03   \n",
       "4             5              0                  1       4.716,22   \n",
       "5             3              2                  1       4.010,69   \n",
       "6             6              3                  1      34.516,72   \n",
       "7             2              2                  2      29.081,49   \n",
       "8             5              0                  2      22.352,50   \n",
       "9             6              3                  3      11.656,41   \n",
       "\n",
       "  valor_transacoes_12m  qtd_transacoes_12m  \n",
       "0             1.144,90                  42  \n",
       "1             1.291,45                  33  \n",
       "2             1.887,72                  20  \n",
       "3             1.171,56                  20  \n",
       "4               816,08                  28  \n",
       "5             1.088,07                  24  \n",
       "6             1.330,87                  31  \n",
       "7             1.538,32                  36  \n",
       "8             1.350,14                  24  \n",
       "9             1.441,73                  32  "
      ]
     },
     "execution_count": 4,
     "metadata": {},
     "output_type": "execute_result"
    }
   ],
   "source": [
    "df.head(n=10)"
   ]
  },
  {
   "cell_type": "markdown",
   "id": "c86a7ef3",
   "metadata": {
    "id": "EuDUXAcU-bWl",
    "papermill": {
     "duration": 0.021036,
     "end_time": "2024-04-16T12:43:41.107484",
     "exception": false,
     "start_time": "2024-04-16T12:43:41.086448",
     "status": "completed"
    },
    "tags": []
   },
   "source": [
    "### **2.1. Estrutura** "
   ]
  },
  {
   "cell_type": "code",
   "execution_count": 5,
   "id": "18b3fe41",
   "metadata": {
    "execution": {
     "iopub.execute_input": "2024-04-16T12:43:41.152399Z",
     "iopub.status.busy": "2024-04-16T12:43:41.151967Z",
     "iopub.status.idle": "2024-04-16T12:43:41.158428Z",
     "shell.execute_reply": "2024-04-16T12:43:41.157243Z"
    },
    "id": "TiHtowl0RzDj",
    "papermill": {
     "duration": 0.032068,
     "end_time": "2024-04-16T12:43:41.160704",
     "exception": false,
     "start_time": "2024-04-16T12:43:41.128636",
     "status": "completed"
    },
    "tags": []
   },
   "outputs": [
    {
     "name": "stdout",
     "output_type": "stream",
     "text": [
      "O tamanho do dataset é: (10127, 16)\n"
     ]
    }
   ],
   "source": [
    "# Conhecendo a quantidade de linhas e colunas do df\n",
    "print('O tamanho do dataset é:', df.shape)"
   ]
  },
  {
   "cell_type": "code",
   "execution_count": 6,
   "id": "0c90f2c8",
   "metadata": {
    "execution": {
     "iopub.execute_input": "2024-04-16T12:43:41.206000Z",
     "iopub.status.busy": "2024-04-16T12:43:41.204882Z",
     "iopub.status.idle": "2024-04-16T12:43:41.218556Z",
     "shell.execute_reply": "2024-04-16T12:43:41.217492Z"
    },
    "id": "wH_CazQqB0Ju",
    "papermill": {
     "duration": 0.039499,
     "end_time": "2024-04-16T12:43:41.221364",
     "exception": false,
     "start_time": "2024-04-16T12:43:41.181865",
     "status": "completed"
    },
    "tags": []
   },
   "outputs": [],
   "source": [
    "# Proporção de dados de clientes adimplentes e inadimplentes \n",
    "qtd_total, _ = df.shape\n",
    "qtd_adimplentes, _ = df[df['default'] == 0].shape\n",
    "qtd_inadimplentes, _ = df[df['default'] == 1].shape"
   ]
  },
  {
   "cell_type": "code",
   "execution_count": 7,
   "id": "e360ab7d",
   "metadata": {
    "execution": {
     "iopub.execute_input": "2024-04-16T12:43:41.265803Z",
     "iopub.status.busy": "2024-04-16T12:43:41.265165Z",
     "iopub.status.idle": "2024-04-16T12:43:41.272758Z",
     "shell.execute_reply": "2024-04-16T12:43:41.271637Z"
    },
    "id": "oNt0s7YeCb3z",
    "papermill": {
     "duration": 0.032677,
     "end_time": "2024-04-16T12:43:41.275168",
     "exception": false,
     "start_time": "2024-04-16T12:43:41.242491",
     "status": "completed"
    },
    "tags": []
   },
   "outputs": [
    {
     "name": "stdout",
     "output_type": "stream",
     "text": [
      "Quantidade de clientes ativos, adimplentes e inadimplestes\n",
      "A quantidade total de clientes é de 10127\n",
      "A quantidade total de clientes adimplentes é de 8500\n",
      "A quantidade total de clientes inadimplentes é de 1627\n",
      "\n",
      "Proporção de clientes adimplentes e inadimplestes\n",
      "A proporcão clientes adimplentes é de 83.93%\n",
      "A proporcão clientes inadimplentes é de 16.07%\n"
     ]
    }
   ],
   "source": [
    "print('Quantidade de clientes ativos, adimplentes e inadimplestes')\n",
    "print((f\"A quantidade total de clientes é de {round(qtd_total, 2)}\"))\n",
    "print((f\"A quantidade total de clientes adimplentes é de {round(qtd_adimplentes, 2)}\"))\n",
    "print((f\"A quantidade total de clientes inadimplentes é de {round(qtd_inadimplentes, 2)}\"))\n",
    "print(\"\")\n",
    "print('Proporção de clientes adimplentes e inadimplestes')\n",
    "print(f\"A proporcão clientes adimplentes é de {round(100 * qtd_adimplentes / qtd_total, 2)}%\")\n",
    "print(f\"A proporcão clientes inadimplentes é de {round(100 * qtd_inadimplentes / qtd_total, 2)}%\")"
   ]
  },
  {
   "cell_type": "markdown",
   "id": "b0a55525",
   "metadata": {
    "id": "kwey_fNL-dko",
    "papermill": {
     "duration": 0.02074,
     "end_time": "2024-04-16T12:43:41.317053",
     "exception": false,
     "start_time": "2024-04-16T12:43:41.296313",
     "status": "completed"
    },
    "tags": []
   },
   "source": [
    "### **2.2. Schema** "
   ]
  },
  {
   "cell_type": "code",
   "execution_count": 8,
   "id": "80357b40",
   "metadata": {
    "execution": {
     "iopub.execute_input": "2024-04-16T12:43:41.361434Z",
     "iopub.status.busy": "2024-04-16T12:43:41.360787Z",
     "iopub.status.idle": "2024-04-16T12:43:41.378136Z",
     "shell.execute_reply": "2024-04-16T12:43:41.377013Z"
    },
    "id": "nYYrLXUfHo_3",
    "papermill": {
     "duration": 0.042469,
     "end_time": "2024-04-16T12:43:41.380485",
     "exception": false,
     "start_time": "2024-04-16T12:43:41.338016",
     "status": "completed"
    },
    "tags": []
   },
   "outputs": [
    {
     "data": {
      "text/html": [
       "<div>\n",
       "<style scoped>\n",
       "    .dataframe tbody tr th:only-of-type {\n",
       "        vertical-align: middle;\n",
       "    }\n",
       "\n",
       "    .dataframe tbody tr th {\n",
       "        vertical-align: top;\n",
       "    }\n",
       "\n",
       "    .dataframe thead th {\n",
       "        text-align: right;\n",
       "    }\n",
       "</style>\n",
       "<table border=\"1\" class=\"dataframe\">\n",
       "  <thead>\n",
       "    <tr style=\"text-align: right;\">\n",
       "      <th></th>\n",
       "      <th>id</th>\n",
       "      <th>default</th>\n",
       "      <th>idade</th>\n",
       "      <th>sexo</th>\n",
       "      <th>dependentes</th>\n",
       "      <th>escolaridade</th>\n",
       "      <th>estado_civil</th>\n",
       "      <th>salario_anual</th>\n",
       "      <th>tipo_cartao</th>\n",
       "      <th>meses_de_relacionamento</th>\n",
       "      <th>qtd_produtos</th>\n",
       "      <th>iteracoes_12m</th>\n",
       "      <th>meses_inativo_12m</th>\n",
       "      <th>limite_credito</th>\n",
       "      <th>valor_transacoes_12m</th>\n",
       "      <th>qtd_transacoes_12m</th>\n",
       "    </tr>\n",
       "  </thead>\n",
       "  <tbody>\n",
       "    <tr>\n",
       "      <th>0</th>\n",
       "      <td>768805383</td>\n",
       "      <td>0</td>\n",
       "      <td>45</td>\n",
       "      <td>M</td>\n",
       "      <td>3</td>\n",
       "      <td>ensino medio</td>\n",
       "      <td>casado</td>\n",
       "      <td>$60K - $80K</td>\n",
       "      <td>blue</td>\n",
       "      <td>39</td>\n",
       "      <td>5</td>\n",
       "      <td>3</td>\n",
       "      <td>1</td>\n",
       "      <td>12.691,51</td>\n",
       "      <td>1.144,90</td>\n",
       "      <td>42</td>\n",
       "    </tr>\n",
       "    <tr>\n",
       "      <th>1</th>\n",
       "      <td>818770008</td>\n",
       "      <td>0</td>\n",
       "      <td>49</td>\n",
       "      <td>F</td>\n",
       "      <td>5</td>\n",
       "      <td>mestrado</td>\n",
       "      <td>solteiro</td>\n",
       "      <td>menos que $40K</td>\n",
       "      <td>blue</td>\n",
       "      <td>44</td>\n",
       "      <td>6</td>\n",
       "      <td>2</td>\n",
       "      <td>1</td>\n",
       "      <td>8.256,96</td>\n",
       "      <td>1.291,45</td>\n",
       "      <td>33</td>\n",
       "    </tr>\n",
       "    <tr>\n",
       "      <th>2</th>\n",
       "      <td>713982108</td>\n",
       "      <td>0</td>\n",
       "      <td>51</td>\n",
       "      <td>M</td>\n",
       "      <td>3</td>\n",
       "      <td>mestrado</td>\n",
       "      <td>casado</td>\n",
       "      <td>$80K - $120K</td>\n",
       "      <td>blue</td>\n",
       "      <td>36</td>\n",
       "      <td>4</td>\n",
       "      <td>0</td>\n",
       "      <td>1</td>\n",
       "      <td>3.418,56</td>\n",
       "      <td>1.887,72</td>\n",
       "      <td>20</td>\n",
       "    </tr>\n",
       "    <tr>\n",
       "      <th>3</th>\n",
       "      <td>769911858</td>\n",
       "      <td>0</td>\n",
       "      <td>40</td>\n",
       "      <td>F</td>\n",
       "      <td>4</td>\n",
       "      <td>ensino medio</td>\n",
       "      <td>NaN</td>\n",
       "      <td>menos que $40K</td>\n",
       "      <td>blue</td>\n",
       "      <td>34</td>\n",
       "      <td>3</td>\n",
       "      <td>1</td>\n",
       "      <td>4</td>\n",
       "      <td>3.313,03</td>\n",
       "      <td>1.171,56</td>\n",
       "      <td>20</td>\n",
       "    </tr>\n",
       "    <tr>\n",
       "      <th>4</th>\n",
       "      <td>709106358</td>\n",
       "      <td>0</td>\n",
       "      <td>40</td>\n",
       "      <td>M</td>\n",
       "      <td>3</td>\n",
       "      <td>sem educacao formal</td>\n",
       "      <td>casado</td>\n",
       "      <td>$60K - $80K</td>\n",
       "      <td>blue</td>\n",
       "      <td>21</td>\n",
       "      <td>5</td>\n",
       "      <td>0</td>\n",
       "      <td>1</td>\n",
       "      <td>4.716,22</td>\n",
       "      <td>816,08</td>\n",
       "      <td>28</td>\n",
       "    </tr>\n",
       "  </tbody>\n",
       "</table>\n",
       "</div>"
      ],
      "text/plain": [
       "          id  default  idade sexo  dependentes         escolaridade  \\\n",
       "0  768805383        0     45    M            3         ensino medio   \n",
       "1  818770008        0     49    F            5             mestrado   \n",
       "2  713982108        0     51    M            3             mestrado   \n",
       "3  769911858        0     40    F            4         ensino medio   \n",
       "4  709106358        0     40    M            3  sem educacao formal   \n",
       "\n",
       "  estado_civil   salario_anual tipo_cartao  meses_de_relacionamento  \\\n",
       "0       casado     $60K - $80K        blue                       39   \n",
       "1     solteiro  menos que $40K        blue                       44   \n",
       "2       casado    $80K - $120K        blue                       36   \n",
       "3          NaN  menos que $40K        blue                       34   \n",
       "4       casado     $60K - $80K        blue                       21   \n",
       "\n",
       "   qtd_produtos  iteracoes_12m  meses_inativo_12m limite_credito  \\\n",
       "0             5              3                  1      12.691,51   \n",
       "1             6              2                  1       8.256,96   \n",
       "2             4              0                  1       3.418,56   \n",
       "3             3              1                  4       3.313,03   \n",
       "4             5              0                  1       4.716,22   \n",
       "\n",
       "  valor_transacoes_12m  qtd_transacoes_12m  \n",
       "0             1.144,90                  42  \n",
       "1             1.291,45                  33  \n",
       "2             1.887,72                  20  \n",
       "3             1.171,56                  20  \n",
       "4               816,08                  28  "
      ]
     },
     "execution_count": 8,
     "metadata": {},
     "output_type": "execute_result"
    }
   ],
   "source": [
    "df.head(n=5)"
   ]
  },
  {
   "cell_type": "markdown",
   "id": "139b5775",
   "metadata": {
    "id": "sqxmut5iHPeF",
    "papermill": {
     "duration": 0.021476,
     "end_time": "2024-04-16T12:43:41.485792",
     "exception": false,
     "start_time": "2024-04-16T12:43:41.464316",
     "status": "completed"
    },
    "tags": []
   },
   "source": [
    " - Colunas e seus respectivos tipos de dados."
   ]
  },
  {
   "cell_type": "code",
   "execution_count": 9,
   "id": "46ccb334",
   "metadata": {
    "execution": {
     "iopub.execute_input": "2024-04-16T12:43:41.531530Z",
     "iopub.status.busy": "2024-04-16T12:43:41.530847Z",
     "iopub.status.idle": "2024-04-16T12:43:41.563525Z",
     "shell.execute_reply": "2024-04-16T12:43:41.562246Z"
    },
    "id": "llbDSkrwK8Yy",
    "papermill": {
     "duration": 0.059318,
     "end_time": "2024-04-16T12:43:41.566698",
     "exception": false,
     "start_time": "2024-04-16T12:43:41.507380",
     "status": "completed"
    },
    "tags": []
   },
   "outputs": [
    {
     "name": "stdout",
     "output_type": "stream",
     "text": [
      "<class 'pandas.core.frame.DataFrame'>\n",
      "RangeIndex: 10127 entries, 0 to 10126\n",
      "Data columns (total 16 columns):\n",
      " #   Column                   Non-Null Count  Dtype \n",
      "---  ------                   --------------  ----- \n",
      " 0   id                       10127 non-null  int64 \n",
      " 1   default                  10127 non-null  int64 \n",
      " 2   idade                    10127 non-null  int64 \n",
      " 3   sexo                     10127 non-null  object\n",
      " 4   dependentes              10127 non-null  int64 \n",
      " 5   escolaridade             8608 non-null   object\n",
      " 6   estado_civil             9378 non-null   object\n",
      " 7   salario_anual            9015 non-null   object\n",
      " 8   tipo_cartao              10127 non-null  object\n",
      " 9   meses_de_relacionamento  10127 non-null  int64 \n",
      " 10  qtd_produtos             10127 non-null  int64 \n",
      " 11  iteracoes_12m            10127 non-null  int64 \n",
      " 12  meses_inativo_12m        10127 non-null  int64 \n",
      " 13  limite_credito           10127 non-null  object\n",
      " 14  valor_transacoes_12m     10127 non-null  object\n",
      " 15  qtd_transacoes_12m       10127 non-null  int64 \n",
      "dtypes: int64(9), object(7)\n",
      "memory usage: 1.2+ MB\n"
     ]
    }
   ],
   "source": [
    "df.info()"
   ]
  },
  {
   "cell_type": "markdown",
   "id": "dd20a48f",
   "metadata": {
    "id": "aoW6ljPmHCiB",
    "papermill": {
     "duration": 0.021788,
     "end_time": "2024-04-16T12:43:41.610355",
     "exception": false,
     "start_time": "2024-04-16T12:43:41.588567",
     "status": "completed"
    },
    "tags": []
   },
   "source": [
    " - Atributos **categóricos**."
   ]
  },
  {
   "cell_type": "code",
   "execution_count": 10,
   "id": "5ede8de1",
   "metadata": {
    "execution": {
     "iopub.execute_input": "2024-04-16T12:43:41.657208Z",
     "iopub.status.busy": "2024-04-16T12:43:41.656784Z",
     "iopub.status.idle": "2024-04-16T12:43:41.710036Z",
     "shell.execute_reply": "2024-04-16T12:43:41.708788Z"
    },
    "id": "Bk9ruKeCFiEn",
    "papermill": {
     "duration": 0.079982,
     "end_time": "2024-04-16T12:43:41.712908",
     "exception": false,
     "start_time": "2024-04-16T12:43:41.632926",
     "status": "completed"
    },
    "tags": []
   },
   "outputs": [
    {
     "data": {
      "text/html": [
       "<div>\n",
       "<style scoped>\n",
       "    .dataframe tbody tr th:only-of-type {\n",
       "        vertical-align: middle;\n",
       "    }\n",
       "\n",
       "    .dataframe tbody tr th {\n",
       "        vertical-align: top;\n",
       "    }\n",
       "\n",
       "    .dataframe thead th {\n",
       "        text-align: right;\n",
       "    }\n",
       "</style>\n",
       "<table border=\"1\" class=\"dataframe\">\n",
       "  <thead>\n",
       "    <tr style=\"text-align: right;\">\n",
       "      <th></th>\n",
       "      <th>count</th>\n",
       "      <th>unique</th>\n",
       "      <th>top</th>\n",
       "      <th>freq</th>\n",
       "    </tr>\n",
       "  </thead>\n",
       "  <tbody>\n",
       "    <tr>\n",
       "      <th>sexo</th>\n",
       "      <td>10127</td>\n",
       "      <td>2</td>\n",
       "      <td>F</td>\n",
       "      <td>5358</td>\n",
       "    </tr>\n",
       "    <tr>\n",
       "      <th>escolaridade</th>\n",
       "      <td>8608</td>\n",
       "      <td>5</td>\n",
       "      <td>mestrado</td>\n",
       "      <td>3128</td>\n",
       "    </tr>\n",
       "    <tr>\n",
       "      <th>estado_civil</th>\n",
       "      <td>9378</td>\n",
       "      <td>3</td>\n",
       "      <td>casado</td>\n",
       "      <td>4687</td>\n",
       "    </tr>\n",
       "    <tr>\n",
       "      <th>salario_anual</th>\n",
       "      <td>9015</td>\n",
       "      <td>5</td>\n",
       "      <td>menos que $40K</td>\n",
       "      <td>3561</td>\n",
       "    </tr>\n",
       "    <tr>\n",
       "      <th>tipo_cartao</th>\n",
       "      <td>10127</td>\n",
       "      <td>4</td>\n",
       "      <td>blue</td>\n",
       "      <td>9436</td>\n",
       "    </tr>\n",
       "    <tr>\n",
       "      <th>limite_credito</th>\n",
       "      <td>10127</td>\n",
       "      <td>9272</td>\n",
       "      <td>1.438,21</td>\n",
       "      <td>11</td>\n",
       "    </tr>\n",
       "    <tr>\n",
       "      <th>valor_transacoes_12m</th>\n",
       "      <td>10127</td>\n",
       "      <td>10035</td>\n",
       "      <td>3.851,51</td>\n",
       "      <td>3</td>\n",
       "    </tr>\n",
       "  </tbody>\n",
       "</table>\n",
       "</div>"
      ],
      "text/plain": [
       "                      count unique             top  freq\n",
       "sexo                  10127      2               F  5358\n",
       "escolaridade           8608      5        mestrado  3128\n",
       "estado_civil           9378      3          casado  4687\n",
       "salario_anual          9015      5  menos que $40K  3561\n",
       "tipo_cartao           10127      4            blue  9436\n",
       "limite_credito        10127   9272        1.438,21    11\n",
       "valor_transacoes_12m  10127  10035        3.851,51     3"
      ]
     },
     "execution_count": 10,
     "metadata": {},
     "output_type": "execute_result"
    }
   ],
   "source": [
    "df.select_dtypes('object').describe().transpose()"
   ]
  },
  {
   "cell_type": "markdown",
   "id": "107631b0",
   "metadata": {
    "id": "8mNLjb9qHIWr",
    "papermill": {
     "duration": 0.022275,
     "end_time": "2024-04-16T12:43:41.757805",
     "exception": false,
     "start_time": "2024-04-16T12:43:41.735530",
     "status": "completed"
    },
    "tags": []
   },
   "source": [
    " - Atributos **numéricos**."
   ]
  },
  {
   "cell_type": "code",
   "execution_count": 11,
   "id": "0a9dfb90",
   "metadata": {
    "execution": {
     "iopub.execute_input": "2024-04-16T12:43:41.804793Z",
     "iopub.status.busy": "2024-04-16T12:43:41.804389Z",
     "iopub.status.idle": "2024-04-16T12:43:41.853355Z",
     "shell.execute_reply": "2024-04-16T12:43:41.852077Z"
    },
    "id": "4JAFUYUfDSSR",
    "papermill": {
     "duration": 0.075688,
     "end_time": "2024-04-16T12:43:41.856144",
     "exception": false,
     "start_time": "2024-04-16T12:43:41.780456",
     "status": "completed"
    },
    "tags": []
   },
   "outputs": [
    {
     "data": {
      "text/html": [
       "<div>\n",
       "<style scoped>\n",
       "    .dataframe tbody tr th:only-of-type {\n",
       "        vertical-align: middle;\n",
       "    }\n",
       "\n",
       "    .dataframe tbody tr th {\n",
       "        vertical-align: top;\n",
       "    }\n",
       "\n",
       "    .dataframe thead th {\n",
       "        text-align: right;\n",
       "    }\n",
       "</style>\n",
       "<table border=\"1\" class=\"dataframe\">\n",
       "  <thead>\n",
       "    <tr style=\"text-align: right;\">\n",
       "      <th></th>\n",
       "      <th>count</th>\n",
       "      <th>mean</th>\n",
       "      <th>std</th>\n",
       "      <th>min</th>\n",
       "      <th>25%</th>\n",
       "      <th>50%</th>\n",
       "      <th>75%</th>\n",
       "      <th>max</th>\n",
       "    </tr>\n",
       "  </thead>\n",
       "  <tbody>\n",
       "    <tr>\n",
       "      <th>default</th>\n",
       "      <td>10127.0</td>\n",
       "      <td>0.160660</td>\n",
       "      <td>0.367235</td>\n",
       "      <td>0.0</td>\n",
       "      <td>0.0</td>\n",
       "      <td>0.0</td>\n",
       "      <td>0.0</td>\n",
       "      <td>1.0</td>\n",
       "    </tr>\n",
       "    <tr>\n",
       "      <th>idade</th>\n",
       "      <td>10127.0</td>\n",
       "      <td>46.325960</td>\n",
       "      <td>8.016814</td>\n",
       "      <td>26.0</td>\n",
       "      <td>41.0</td>\n",
       "      <td>46.0</td>\n",
       "      <td>52.0</td>\n",
       "      <td>73.0</td>\n",
       "    </tr>\n",
       "    <tr>\n",
       "      <th>dependentes</th>\n",
       "      <td>10127.0</td>\n",
       "      <td>2.346203</td>\n",
       "      <td>1.298908</td>\n",
       "      <td>0.0</td>\n",
       "      <td>1.0</td>\n",
       "      <td>2.0</td>\n",
       "      <td>3.0</td>\n",
       "      <td>5.0</td>\n",
       "    </tr>\n",
       "    <tr>\n",
       "      <th>meses_de_relacionamento</th>\n",
       "      <td>10127.0</td>\n",
       "      <td>35.928409</td>\n",
       "      <td>7.986416</td>\n",
       "      <td>13.0</td>\n",
       "      <td>31.0</td>\n",
       "      <td>36.0</td>\n",
       "      <td>40.0</td>\n",
       "      <td>56.0</td>\n",
       "    </tr>\n",
       "    <tr>\n",
       "      <th>qtd_produtos</th>\n",
       "      <td>10127.0</td>\n",
       "      <td>3.812580</td>\n",
       "      <td>1.554408</td>\n",
       "      <td>1.0</td>\n",
       "      <td>3.0</td>\n",
       "      <td>4.0</td>\n",
       "      <td>5.0</td>\n",
       "      <td>6.0</td>\n",
       "    </tr>\n",
       "    <tr>\n",
       "      <th>iteracoes_12m</th>\n",
       "      <td>10127.0</td>\n",
       "      <td>2.455317</td>\n",
       "      <td>1.106225</td>\n",
       "      <td>0.0</td>\n",
       "      <td>2.0</td>\n",
       "      <td>2.0</td>\n",
       "      <td>3.0</td>\n",
       "      <td>6.0</td>\n",
       "    </tr>\n",
       "    <tr>\n",
       "      <th>meses_inativo_12m</th>\n",
       "      <td>10127.0</td>\n",
       "      <td>2.341167</td>\n",
       "      <td>1.010622</td>\n",
       "      <td>0.0</td>\n",
       "      <td>2.0</td>\n",
       "      <td>2.0</td>\n",
       "      <td>3.0</td>\n",
       "      <td>6.0</td>\n",
       "    </tr>\n",
       "    <tr>\n",
       "      <th>qtd_transacoes_12m</th>\n",
       "      <td>10127.0</td>\n",
       "      <td>64.858695</td>\n",
       "      <td>23.472570</td>\n",
       "      <td>10.0</td>\n",
       "      <td>45.0</td>\n",
       "      <td>67.0</td>\n",
       "      <td>81.0</td>\n",
       "      <td>139.0</td>\n",
       "    </tr>\n",
       "  </tbody>\n",
       "</table>\n",
       "</div>"
      ],
      "text/plain": [
       "                           count       mean        std   min   25%   50%  \\\n",
       "default                  10127.0   0.160660   0.367235   0.0   0.0   0.0   \n",
       "idade                    10127.0  46.325960   8.016814  26.0  41.0  46.0   \n",
       "dependentes              10127.0   2.346203   1.298908   0.0   1.0   2.0   \n",
       "meses_de_relacionamento  10127.0  35.928409   7.986416  13.0  31.0  36.0   \n",
       "qtd_produtos             10127.0   3.812580   1.554408   1.0   3.0   4.0   \n",
       "iteracoes_12m            10127.0   2.455317   1.106225   0.0   2.0   2.0   \n",
       "meses_inativo_12m        10127.0   2.341167   1.010622   0.0   2.0   2.0   \n",
       "qtd_transacoes_12m       10127.0  64.858695  23.472570  10.0  45.0  67.0   \n",
       "\n",
       "                          75%    max  \n",
       "default                   0.0    1.0  \n",
       "idade                    52.0   73.0  \n",
       "dependentes               3.0    5.0  \n",
       "meses_de_relacionamento  40.0   56.0  \n",
       "qtd_produtos              5.0    6.0  \n",
       "iteracoes_12m             3.0    6.0  \n",
       "meses_inativo_12m         3.0    6.0  \n",
       "qtd_transacoes_12m       81.0  139.0  "
      ]
     },
     "execution_count": 11,
     "metadata": {},
     "output_type": "execute_result"
    }
   ],
   "source": [
    "df.drop('id', axis=1).select_dtypes('number').describe().transpose()"
   ]
  },
  {
   "cell_type": "markdown",
   "id": "51a17c39",
   "metadata": {
    "id": "7lAUes2dUY3h",
    "papermill": {
     "duration": 0.022221,
     "end_time": "2024-04-16T12:43:41.901714",
     "exception": false,
     "start_time": "2024-04-16T12:43:41.879493",
     "status": "completed"
    },
    "tags": []
   },
   "source": [
    "### **2.3. Dados faltantes** "
   ]
  },
  {
   "cell_type": "code",
   "execution_count": 12,
   "id": "b93fe6ed",
   "metadata": {
    "execution": {
     "iopub.execute_input": "2024-04-16T12:43:41.948489Z",
     "iopub.status.busy": "2024-04-16T12:43:41.948070Z",
     "iopub.status.idle": "2024-04-16T12:43:41.966601Z",
     "shell.execute_reply": "2024-04-16T12:43:41.965483Z"
    },
    "id": "8BEHOjzsUnai",
    "papermill": {
     "duration": 0.045249,
     "end_time": "2024-04-16T12:43:41.969344",
     "exception": false,
     "start_time": "2024-04-16T12:43:41.924095",
     "status": "completed"
    },
    "tags": []
   },
   "outputs": [
    {
     "data": {
      "text/html": [
       "<div>\n",
       "<style scoped>\n",
       "    .dataframe tbody tr th:only-of-type {\n",
       "        vertical-align: middle;\n",
       "    }\n",
       "\n",
       "    .dataframe tbody tr th {\n",
       "        vertical-align: top;\n",
       "    }\n",
       "\n",
       "    .dataframe thead th {\n",
       "        text-align: right;\n",
       "    }\n",
       "</style>\n",
       "<table border=\"1\" class=\"dataframe\">\n",
       "  <thead>\n",
       "    <tr style=\"text-align: right;\">\n",
       "      <th></th>\n",
       "      <th>id</th>\n",
       "      <th>default</th>\n",
       "      <th>idade</th>\n",
       "      <th>sexo</th>\n",
       "      <th>dependentes</th>\n",
       "      <th>escolaridade</th>\n",
       "      <th>estado_civil</th>\n",
       "      <th>salario_anual</th>\n",
       "      <th>tipo_cartao</th>\n",
       "      <th>meses_de_relacionamento</th>\n",
       "      <th>qtd_produtos</th>\n",
       "      <th>iteracoes_12m</th>\n",
       "      <th>meses_inativo_12m</th>\n",
       "      <th>limite_credito</th>\n",
       "      <th>valor_transacoes_12m</th>\n",
       "      <th>qtd_transacoes_12m</th>\n",
       "    </tr>\n",
       "  </thead>\n",
       "  <tbody>\n",
       "    <tr>\n",
       "      <th>0</th>\n",
       "      <td>768805383</td>\n",
       "      <td>0</td>\n",
       "      <td>45</td>\n",
       "      <td>M</td>\n",
       "      <td>3</td>\n",
       "      <td>ensino medio</td>\n",
       "      <td>casado</td>\n",
       "      <td>$60K - $80K</td>\n",
       "      <td>blue</td>\n",
       "      <td>39</td>\n",
       "      <td>5</td>\n",
       "      <td>3</td>\n",
       "      <td>1</td>\n",
       "      <td>12.691,51</td>\n",
       "      <td>1.144,90</td>\n",
       "      <td>42</td>\n",
       "    </tr>\n",
       "    <tr>\n",
       "      <th>1</th>\n",
       "      <td>818770008</td>\n",
       "      <td>0</td>\n",
       "      <td>49</td>\n",
       "      <td>F</td>\n",
       "      <td>5</td>\n",
       "      <td>mestrado</td>\n",
       "      <td>solteiro</td>\n",
       "      <td>menos que $40K</td>\n",
       "      <td>blue</td>\n",
       "      <td>44</td>\n",
       "      <td>6</td>\n",
       "      <td>2</td>\n",
       "      <td>1</td>\n",
       "      <td>8.256,96</td>\n",
       "      <td>1.291,45</td>\n",
       "      <td>33</td>\n",
       "    </tr>\n",
       "    <tr>\n",
       "      <th>2</th>\n",
       "      <td>713982108</td>\n",
       "      <td>0</td>\n",
       "      <td>51</td>\n",
       "      <td>M</td>\n",
       "      <td>3</td>\n",
       "      <td>mestrado</td>\n",
       "      <td>casado</td>\n",
       "      <td>$80K - $120K</td>\n",
       "      <td>blue</td>\n",
       "      <td>36</td>\n",
       "      <td>4</td>\n",
       "      <td>0</td>\n",
       "      <td>1</td>\n",
       "      <td>3.418,56</td>\n",
       "      <td>1.887,72</td>\n",
       "      <td>20</td>\n",
       "    </tr>\n",
       "    <tr>\n",
       "      <th>3</th>\n",
       "      <td>769911858</td>\n",
       "      <td>0</td>\n",
       "      <td>40</td>\n",
       "      <td>F</td>\n",
       "      <td>4</td>\n",
       "      <td>ensino medio</td>\n",
       "      <td>NaN</td>\n",
       "      <td>menos que $40K</td>\n",
       "      <td>blue</td>\n",
       "      <td>34</td>\n",
       "      <td>3</td>\n",
       "      <td>1</td>\n",
       "      <td>4</td>\n",
       "      <td>3.313,03</td>\n",
       "      <td>1.171,56</td>\n",
       "      <td>20</td>\n",
       "    </tr>\n",
       "    <tr>\n",
       "      <th>4</th>\n",
       "      <td>709106358</td>\n",
       "      <td>0</td>\n",
       "      <td>40</td>\n",
       "      <td>M</td>\n",
       "      <td>3</td>\n",
       "      <td>sem educacao formal</td>\n",
       "      <td>casado</td>\n",
       "      <td>$60K - $80K</td>\n",
       "      <td>blue</td>\n",
       "      <td>21</td>\n",
       "      <td>5</td>\n",
       "      <td>0</td>\n",
       "      <td>1</td>\n",
       "      <td>4.716,22</td>\n",
       "      <td>816,08</td>\n",
       "      <td>28</td>\n",
       "    </tr>\n",
       "  </tbody>\n",
       "</table>\n",
       "</div>"
      ],
      "text/plain": [
       "          id  default  idade sexo  dependentes         escolaridade  \\\n",
       "0  768805383        0     45    M            3         ensino medio   \n",
       "1  818770008        0     49    F            5             mestrado   \n",
       "2  713982108        0     51    M            3             mestrado   \n",
       "3  769911858        0     40    F            4         ensino medio   \n",
       "4  709106358        0     40    M            3  sem educacao formal   \n",
       "\n",
       "  estado_civil   salario_anual tipo_cartao  meses_de_relacionamento  \\\n",
       "0       casado     $60K - $80K        blue                       39   \n",
       "1     solteiro  menos que $40K        blue                       44   \n",
       "2       casado    $80K - $120K        blue                       36   \n",
       "3          NaN  menos que $40K        blue                       34   \n",
       "4       casado     $60K - $80K        blue                       21   \n",
       "\n",
       "   qtd_produtos  iteracoes_12m  meses_inativo_12m limite_credito  \\\n",
       "0             5              3                  1      12.691,51   \n",
       "1             6              2                  1       8.256,96   \n",
       "2             4              0                  1       3.418,56   \n",
       "3             3              1                  4       3.313,03   \n",
       "4             5              0                  1       4.716,22   \n",
       "\n",
       "  valor_transacoes_12m  qtd_transacoes_12m  \n",
       "0             1.144,90                  42  \n",
       "1             1.291,45                  33  \n",
       "2             1.887,72                  20  \n",
       "3             1.171,56                  20  \n",
       "4               816,08                  28  "
      ]
     },
     "execution_count": 12,
     "metadata": {},
     "output_type": "execute_result"
    }
   ],
   "source": [
    "df.head()"
   ]
  },
  {
   "cell_type": "markdown",
   "id": "7b0f72e9",
   "metadata": {
    "id": "GafzLolPK4jy",
    "papermill": {
     "duration": 0.023938,
     "end_time": "2024-04-16T12:43:42.016046",
     "exception": false,
     "start_time": "2024-04-16T12:43:41.992108",
     "status": "completed"
    },
    "tags": []
   },
   "source": [
    "Verificando quais colunas possuem dados faltantes."
   ]
  },
  {
   "cell_type": "code",
   "execution_count": 13,
   "id": "0adf88e0",
   "metadata": {
    "execution": {
     "iopub.execute_input": "2024-04-16T12:43:42.064956Z",
     "iopub.status.busy": "2024-04-16T12:43:42.064555Z",
     "iopub.status.idle": "2024-04-16T12:43:42.077829Z",
     "shell.execute_reply": "2024-04-16T12:43:42.076327Z"
    },
    "papermill": {
     "duration": 0.041561,
     "end_time": "2024-04-16T12:43:42.080494",
     "exception": false,
     "start_time": "2024-04-16T12:43:42.038933",
     "status": "completed"
    },
    "tags": []
   },
   "outputs": [
    {
     "data": {
      "text/plain": [
       "0        1\n",
       "1        1\n",
       "2        1\n",
       "3        1\n",
       "4        1\n",
       "        ..\n",
       "10122    1\n",
       "10123    1\n",
       "10124    1\n",
       "10125    1\n",
       "10126    1\n",
       "Name: Freq, Length: 10127, dtype: int64"
      ]
     },
     "execution_count": 13,
     "metadata": {},
     "output_type": "execute_result"
    }
   ],
   "source": [
    "df['Freq'] = df.groupby('id')['id'].transform('count')\n",
    "df['Freq']\n"
   ]
  },
  {
   "cell_type": "code",
   "execution_count": 14,
   "id": "93131008",
   "metadata": {
    "execution": {
     "iopub.execute_input": "2024-04-16T12:43:42.129253Z",
     "iopub.status.busy": "2024-04-16T12:43:42.128808Z",
     "iopub.status.idle": "2024-04-16T12:43:42.146651Z",
     "shell.execute_reply": "2024-04-16T12:43:42.145709Z"
    },
    "id": "5dhwXuvgI3iF",
    "papermill": {
     "duration": 0.045362,
     "end_time": "2024-04-16T12:43:42.149154",
     "exception": false,
     "start_time": "2024-04-16T12:43:42.103792",
     "status": "completed"
    },
    "tags": []
   },
   "outputs": [
    {
     "data": {
      "text/plain": [
       "id                         False\n",
       "default                    False\n",
       "idade                      False\n",
       "sexo                       False\n",
       "dependentes                False\n",
       "escolaridade                True\n",
       "estado_civil                True\n",
       "salario_anual               True\n",
       "tipo_cartao                False\n",
       "meses_de_relacionamento    False\n",
       "qtd_produtos               False\n",
       "iteracoes_12m              False\n",
       "meses_inativo_12m          False\n",
       "limite_credito             False\n",
       "valor_transacoes_12m       False\n",
       "qtd_transacoes_12m         False\n",
       "Freq                       False\n",
       "dtype: bool"
      ]
     },
     "execution_count": 14,
     "metadata": {},
     "output_type": "execute_result"
    }
   ],
   "source": [
    "df.isna().any()"
   ]
  },
  {
   "cell_type": "markdown",
   "id": "ed9a1198",
   "metadata": {
    "id": "iHFNmur_JQ0y",
    "papermill": {
     "duration": 0.023736,
     "end_time": "2024-04-16T12:43:42.196433",
     "exception": false,
     "start_time": "2024-04-16T12:43:42.172697",
     "status": "completed"
    },
    "tags": []
   },
   "source": [
    " - A função abaixo levanta algumas estatisticas sobre as colunas dos dados faltantes."
   ]
  },
  {
   "cell_type": "code",
   "execution_count": 15,
   "id": "2e83c70c",
   "metadata": {
    "execution": {
     "iopub.execute_input": "2024-04-16T12:43:42.246512Z",
     "iopub.status.busy": "2024-04-16T12:43:42.246101Z",
     "iopub.status.idle": "2024-04-16T12:43:42.254048Z",
     "shell.execute_reply": "2024-04-16T12:43:42.252780Z"
    },
    "id": "UBeAIKidSMl9",
    "papermill": {
     "duration": 0.035986,
     "end_time": "2024-04-16T12:43:42.256683",
     "exception": false,
     "start_time": "2024-04-16T12:43:42.220697",
     "status": "completed"
    },
    "tags": []
   },
   "outputs": [],
   "source": [
    "def stats_dados_faltantes(df: pd.DataFrame) -> None:\n",
    "\n",
    "  stats_dados_faltantes = []\n",
    "  for col in df.columns:\n",
    "    if df[col].isna().any():\n",
    "      qtd, _ = df[df[col].isna()].shape\n",
    "      total, _ = df.shape\n",
    "      dict_dados_faltantes = {col: {'quantidade': qtd, \"porcentagem\": round(100 * qtd/total, 2)}}\n",
    "      stats_dados_faltantes.append(dict_dados_faltantes)\n",
    "\n",
    "  for stat in stats_dados_faltantes:\n",
    "    print(stat)"
   ]
  },
  {
   "cell_type": "markdown",
   "id": "3ad5aeb2",
   "metadata": {
    "papermill": {
     "duration": 0.024239,
     "end_time": "2024-04-16T12:43:42.304610",
     "exception": false,
     "start_time": "2024-04-16T12:43:42.280371",
     "status": "completed"
    },
    "tags": []
   },
   "source": [
    " * Dados faltantes dos **clientes ativos**"
   ]
  },
  {
   "cell_type": "code",
   "execution_count": 16,
   "id": "4fafb6eb",
   "metadata": {
    "execution": {
     "iopub.execute_input": "2024-04-16T12:43:42.353643Z",
     "iopub.status.busy": "2024-04-16T12:43:42.353226Z",
     "iopub.status.idle": "2024-04-16T12:43:42.377307Z",
     "shell.execute_reply": "2024-04-16T12:43:42.376085Z"
    },
    "id": "yLcRKYv7Vcfo",
    "papermill": {
     "duration": 0.052024,
     "end_time": "2024-04-16T12:43:42.380330",
     "exception": false,
     "start_time": "2024-04-16T12:43:42.328306",
     "status": "completed"
    },
    "tags": []
   },
   "outputs": [
    {
     "name": "stdout",
     "output_type": "stream",
     "text": [
      "{'escolaridade': {'quantidade': 1519, 'porcentagem': 15.0}}\n",
      "{'estado_civil': {'quantidade': 749, 'porcentagem': 7.4}}\n",
      "{'salario_anual': {'quantidade': 1112, 'porcentagem': 10.98}}\n"
     ]
    }
   ],
   "source": [
    "stats_dados_faltantes(df=df)"
   ]
  },
  {
   "cell_type": "markdown",
   "id": "9e381f26",
   "metadata": {
    "papermill": {
     "duration": 0.024305,
     "end_time": "2024-04-16T12:43:42.429023",
     "exception": false,
     "start_time": "2024-04-16T12:43:42.404718",
     "status": "completed"
    },
    "tags": []
   },
   "source": [
    " * Dados faltantes dos **clientes adimplentes**"
   ]
  },
  {
   "cell_type": "code",
   "execution_count": 17,
   "id": "7f0df41b",
   "metadata": {
    "execution": {
     "iopub.execute_input": "2024-04-16T12:43:42.479719Z",
     "iopub.status.busy": "2024-04-16T12:43:42.479017Z",
     "iopub.status.idle": "2024-04-16T12:43:42.502851Z",
     "shell.execute_reply": "2024-04-16T12:43:42.501418Z"
    },
    "id": "9HgN5wcQUyrE",
    "papermill": {
     "duration": 0.052076,
     "end_time": "2024-04-16T12:43:42.505461",
     "exception": false,
     "start_time": "2024-04-16T12:43:42.453385",
     "status": "completed"
    },
    "tags": []
   },
   "outputs": [
    {
     "name": "stdout",
     "output_type": "stream",
     "text": [
      "{'escolaridade': {'quantidade': 1263, 'porcentagem': 14.86}}\n",
      "{'estado_civil': {'quantidade': 620, 'porcentagem': 7.29}}\n",
      "{'salario_anual': {'quantidade': 925, 'porcentagem': 10.88}}\n"
     ]
    }
   ],
   "source": [
    "stats_dados_faltantes(df=df[df['default'] == 0])"
   ]
  },
  {
   "cell_type": "markdown",
   "id": "be216d6a",
   "metadata": {
    "papermill": {
     "duration": 0.023381,
     "end_time": "2024-04-16T12:43:42.553239",
     "exception": false,
     "start_time": "2024-04-16T12:43:42.529858",
     "status": "completed"
    },
    "tags": []
   },
   "source": [
    " * Dados faltantes dos **clientes inadimplentes**"
   ]
  },
  {
   "cell_type": "code",
   "execution_count": 18,
   "id": "47393192",
   "metadata": {
    "execution": {
     "iopub.execute_input": "2024-04-16T12:43:42.603417Z",
     "iopub.status.busy": "2024-04-16T12:43:42.602344Z",
     "iopub.status.idle": "2024-04-16T12:43:42.616366Z",
     "shell.execute_reply": "2024-04-16T12:43:42.615021Z"
    },
    "id": "o9GIwcSCVmjt",
    "papermill": {
     "duration": 0.042129,
     "end_time": "2024-04-16T12:43:42.618808",
     "exception": false,
     "start_time": "2024-04-16T12:43:42.576679",
     "status": "completed"
    },
    "tags": []
   },
   "outputs": [
    {
     "name": "stdout",
     "output_type": "stream",
     "text": [
      "{'escolaridade': {'quantidade': 256, 'porcentagem': 15.73}}\n",
      "{'estado_civil': {'quantidade': 129, 'porcentagem': 7.93}}\n",
      "{'salario_anual': {'quantidade': 187, 'porcentagem': 11.49}}\n"
     ]
    }
   ],
   "source": [
    "stats_dados_faltantes(df=df[df['default'] == 1])"
   ]
  },
  {
   "cell_type": "markdown",
   "id": "acd999fe",
   "metadata": {
    "id": "miYvjW9QPKJm",
    "papermill": {
     "duration": 0.023412,
     "end_time": "2024-04-16T12:43:42.666935",
     "exception": false,
     "start_time": "2024-04-16T12:43:42.643523",
     "status": "completed"
    },
    "tags": []
   },
   "source": [
    "## 3\\. Transformação e limpeza de dados"
   ]
  },
  {
   "cell_type": "markdown",
   "id": "964c024e",
   "metadata": {
    "id": "YqEgik1OXVLR",
    "papermill": {
     "duration": 0.025628,
     "end_time": "2024-04-16T12:43:42.716374",
     "exception": false,
     "start_time": "2024-04-16T12:43:42.690746",
     "status": "completed"
    },
    "tags": []
   },
   "source": [
    "### **3.1. Correção de schema** "
   ]
  },
  {
   "cell_type": "markdown",
   "id": "3ed3841b",
   "metadata": {
    "id": "FWHWpcurMkiX",
    "papermill": {
     "duration": 0.023769,
     "end_time": "2024-04-16T12:43:42.763737",
     "exception": false,
     "start_time": "2024-04-16T12:43:42.739968",
     "status": "completed"
    },
    "tags": []
   },
   "source": [
    "Convertendo as colunas **limite_credito** e **valor_transacoes_12m** que estão sendo interpretadas como colunas categóricas (`dtype = object`)."
   ]
  },
  {
   "cell_type": "code",
   "execution_count": 19,
   "id": "75b56541",
   "metadata": {
    "execution": {
     "iopub.execute_input": "2024-04-16T12:43:42.813815Z",
     "iopub.status.busy": "2024-04-16T12:43:42.813423Z",
     "iopub.status.idle": "2024-04-16T12:43:42.823417Z",
     "shell.execute_reply": "2024-04-16T12:43:42.822513Z"
    },
    "id": "e_ToeVYcM7X3",
    "papermill": {
     "duration": 0.037401,
     "end_time": "2024-04-16T12:43:42.825672",
     "exception": false,
     "start_time": "2024-04-16T12:43:42.788271",
     "status": "completed"
    },
    "tags": []
   },
   "outputs": [
    {
     "data": {
      "text/plain": [
       "limite_credito          object\n",
       "valor_transacoes_12m    object\n",
       "dtype: object"
      ]
     },
     "execution_count": 19,
     "metadata": {},
     "output_type": "execute_result"
    }
   ],
   "source": [
    "df[['limite_credito', 'valor_transacoes_12m']].dtypes"
   ]
  },
  {
   "cell_type": "code",
   "execution_count": 20,
   "id": "ce8e8b59",
   "metadata": {
    "execution": {
     "iopub.execute_input": "2024-04-16T12:43:42.875312Z",
     "iopub.status.busy": "2024-04-16T12:43:42.874866Z",
     "iopub.status.idle": "2024-04-16T12:43:42.887107Z",
     "shell.execute_reply": "2024-04-16T12:43:42.885910Z"
    },
    "id": "pkG33j5QNGLD",
    "papermill": {
     "duration": 0.039632,
     "end_time": "2024-04-16T12:43:42.889351",
     "exception": false,
     "start_time": "2024-04-16T12:43:42.849719",
     "status": "completed"
    },
    "tags": []
   },
   "outputs": [
    {
     "data": {
      "text/html": [
       "<div>\n",
       "<style scoped>\n",
       "    .dataframe tbody tr th:only-of-type {\n",
       "        vertical-align: middle;\n",
       "    }\n",
       "\n",
       "    .dataframe tbody tr th {\n",
       "        vertical-align: top;\n",
       "    }\n",
       "\n",
       "    .dataframe thead th {\n",
       "        text-align: right;\n",
       "    }\n",
       "</style>\n",
       "<table border=\"1\" class=\"dataframe\">\n",
       "  <thead>\n",
       "    <tr style=\"text-align: right;\">\n",
       "      <th></th>\n",
       "      <th>limite_credito</th>\n",
       "      <th>valor_transacoes_12m</th>\n",
       "    </tr>\n",
       "  </thead>\n",
       "  <tbody>\n",
       "    <tr>\n",
       "      <th>0</th>\n",
       "      <td>12.691,51</td>\n",
       "      <td>1.144,90</td>\n",
       "    </tr>\n",
       "    <tr>\n",
       "      <th>1</th>\n",
       "      <td>8.256,96</td>\n",
       "      <td>1.291,45</td>\n",
       "    </tr>\n",
       "    <tr>\n",
       "      <th>2</th>\n",
       "      <td>3.418,56</td>\n",
       "      <td>1.887,72</td>\n",
       "    </tr>\n",
       "    <tr>\n",
       "      <th>3</th>\n",
       "      <td>3.313,03</td>\n",
       "      <td>1.171,56</td>\n",
       "    </tr>\n",
       "    <tr>\n",
       "      <th>4</th>\n",
       "      <td>4.716,22</td>\n",
       "      <td>816,08</td>\n",
       "    </tr>\n",
       "  </tbody>\n",
       "</table>\n",
       "</div>"
      ],
      "text/plain": [
       "  limite_credito valor_transacoes_12m\n",
       "0      12.691,51             1.144,90\n",
       "1       8.256,96             1.291,45\n",
       "2       3.418,56             1.887,72\n",
       "3       3.313,03             1.171,56\n",
       "4       4.716,22               816,08"
      ]
     },
     "execution_count": 20,
     "metadata": {},
     "output_type": "execute_result"
    }
   ],
   "source": [
    "df[['limite_credito', 'valor_transacoes_12m']].head(5)"
   ]
  },
  {
   "cell_type": "code",
   "execution_count": 21,
   "id": "d32e7ba3",
   "metadata": {
    "execution": {
     "iopub.execute_input": "2024-04-16T12:43:42.939729Z",
     "iopub.status.busy": "2024-04-16T12:43:42.939369Z",
     "iopub.status.idle": "2024-04-16T12:43:42.966367Z",
     "shell.execute_reply": "2024-04-16T12:43:42.965084Z"
    },
    "id": "b1vsc75TN_ZA",
    "papermill": {
     "duration": 0.055271,
     "end_time": "2024-04-16T12:43:42.969189",
     "exception": false,
     "start_time": "2024-04-16T12:43:42.913918",
     "status": "completed"
    },
    "tags": []
   },
   "outputs": [],
   "source": [
    "# Aplicando função lambda para converter os valores das colunas em float\n",
    "df['valor_transacoes_12m'] = df['valor_transacoes_12m'].apply(lambda valor: float(valor.replace(\".\", \"\").replace(\",\", \".\")))\n",
    "df['limite_credito'] = df['limite_credito'].apply(lambda valor: float(valor.replace(\".\", \"\").replace(\",\", \".\")))"
   ]
  },
  {
   "cell_type": "code",
   "execution_count": 22,
   "id": "522b1ad2",
   "metadata": {
    "execution": {
     "iopub.execute_input": "2024-04-16T12:43:43.029287Z",
     "iopub.status.busy": "2024-04-16T12:43:43.026680Z",
     "iopub.status.idle": "2024-04-16T12:43:43.039679Z",
     "shell.execute_reply": "2024-04-16T12:43:43.038355Z"
    },
    "id": "TOJoEfVxQpz3",
    "papermill": {
     "duration": 0.050192,
     "end_time": "2024-04-16T12:43:43.043627",
     "exception": false,
     "start_time": "2024-04-16T12:43:42.993435",
     "status": "completed"
    },
    "tags": []
   },
   "outputs": [
    {
     "data": {
      "text/plain": [
       "limite_credito          float64\n",
       "valor_transacoes_12m    float64\n",
       "dtype: object"
      ]
     },
     "execution_count": 22,
     "metadata": {},
     "output_type": "execute_result"
    }
   ],
   "source": [
    "# Verificando o tipo das colunas\n",
    "df[['limite_credito', 'valor_transacoes_12m']].dtypes"
   ]
  },
  {
   "cell_type": "markdown",
   "id": "0a927adc",
   "metadata": {
    "id": "FfSrJNGPLgaE",
    "papermill": {
     "duration": 0.025247,
     "end_time": "2024-04-16T12:43:43.100027",
     "exception": false,
     "start_time": "2024-04-16T12:43:43.074780",
     "status": "completed"
    },
    "tags": []
   },
   "source": [
    "### **3.2. Remoção de dados faltantes** "
   ]
  },
  {
   "cell_type": "code",
   "execution_count": 23,
   "id": "d5731b68",
   "metadata": {
    "execution": {
     "iopub.execute_input": "2024-04-16T12:43:43.150495Z",
     "iopub.status.busy": "2024-04-16T12:43:43.149464Z",
     "iopub.status.idle": "2024-04-16T12:43:43.163097Z",
     "shell.execute_reply": "2024-04-16T12:43:43.162096Z"
    },
    "id": "PACLJJnsLgak",
    "papermill": {
     "duration": 0.041468,
     "end_time": "2024-04-16T12:43:43.165501",
     "exception": false,
     "start_time": "2024-04-16T12:43:43.124033",
     "status": "completed"
    },
    "tags": []
   },
   "outputs": [],
   "source": [
    "df.dropna(inplace=True)"
   ]
  },
  {
   "cell_type": "code",
   "execution_count": 24,
   "id": "e2d3c016",
   "metadata": {
    "execution": {
     "iopub.execute_input": "2024-04-16T12:43:43.222548Z",
     "iopub.status.busy": "2024-04-16T12:43:43.222051Z",
     "iopub.status.idle": "2024-04-16T12:43:43.229185Z",
     "shell.execute_reply": "2024-04-16T12:43:43.228055Z"
    },
    "id": "5Fo7S-COP0Lf",
    "papermill": {
     "duration": 0.038943,
     "end_time": "2024-04-16T12:43:43.231962",
     "exception": false,
     "start_time": "2024-04-16T12:43:43.193019",
     "status": "completed"
    },
    "tags": []
   },
   "outputs": [
    {
     "data": {
      "text/plain": [
       "(7081, 17)"
      ]
     },
     "execution_count": 24,
     "metadata": {},
     "output_type": "execute_result"
    }
   ],
   "source": [
    "df.shape"
   ]
  },
  {
   "cell_type": "markdown",
   "id": "318a9b5d",
   "metadata": {
    "papermill": {
     "duration": 0.03175,
     "end_time": "2024-04-16T12:43:43.300175",
     "exception": false,
     "start_time": "2024-04-16T12:43:43.268425",
     "status": "completed"
    },
    "tags": []
   },
   "source": [
    "Cálculo da proporção de dados de clientes adimplentes e inadimplentes sem dados faltantes\n"
   ]
  },
  {
   "cell_type": "code",
   "execution_count": 25,
   "id": "4acc3886",
   "metadata": {
    "execution": {
     "iopub.execute_input": "2024-04-16T12:43:43.355730Z",
     "iopub.status.busy": "2024-04-16T12:43:43.354731Z",
     "iopub.status.idle": "2024-04-16T12:43:43.363405Z",
     "shell.execute_reply": "2024-04-16T12:43:43.362040Z"
    },
    "id": "IGFZmtReP0Lk",
    "papermill": {
     "duration": 0.037294,
     "end_time": "2024-04-16T12:43:43.366506",
     "exception": false,
     "start_time": "2024-04-16T12:43:43.329212",
     "status": "completed"
    },
    "tags": []
   },
   "outputs": [],
   "source": [
    "qtd_total_novo, _ = df.shape\n",
    "qtd_adimplentes_novo, _ = df[df['default'] == 0].shape\n",
    "qtd_inadimplentes_novo, _ = df[df['default'] == 1].shape"
   ]
  },
  {
   "cell_type": "code",
   "execution_count": 26,
   "id": "7155506b",
   "metadata": {
    "execution": {
     "iopub.execute_input": "2024-04-16T12:43:43.417157Z",
     "iopub.status.busy": "2024-04-16T12:43:43.416700Z",
     "iopub.status.idle": "2024-04-16T12:43:43.424138Z",
     "shell.execute_reply": "2024-04-16T12:43:43.422923Z"
    },
    "papermill": {
     "duration": 0.035582,
     "end_time": "2024-04-16T12:43:43.426653",
     "exception": false,
     "start_time": "2024-04-16T12:43:43.391071",
     "status": "completed"
    },
    "tags": []
   },
   "outputs": [
    {
     "name": "stdout",
     "output_type": "stream",
     "text": [
      "Quantidade de clientes adimplentes com e sem valores nulos\n",
      "A quantidade total de clientes adimplentes ativos é de 8500\n",
      "A nova quantidade total de clientes adimplentes é de 5968\n",
      "\n",
      "Quantidade de clientes inadimplentes com e sem valores nulos\n",
      "A quantidade total de clientes inadimplentes ativos é de 1627\n",
      "A nova quantidade total de clientes inadimplentes é de 1113\n"
     ]
    }
   ],
   "source": [
    "print('Quantidade de clientes adimplentes com e sem valores nulos')\n",
    "print((f\"A quantidade total de clientes adimplentes ativos é de {round(qtd_adimplentes, 2)}\"))\n",
    "print((f\"A nova quantidade total de clientes adimplentes é de {round(qtd_adimplentes_novo, 2)}\"))\n",
    "print(\"\")\n",
    "print('Quantidade de clientes inadimplentes com e sem valores nulos')\n",
    "print((f\"A quantidade total de clientes inadimplentes ativos é de {round(qtd_inadimplentes, 2)}\"))\n",
    "print((f\"A nova quantidade total de clientes inadimplentes é de {round(qtd_inadimplentes_novo, 2)}\"))"
   ]
  },
  {
   "cell_type": "code",
   "execution_count": 27,
   "id": "7e8b08ea",
   "metadata": {
    "execution": {
     "iopub.execute_input": "2024-04-16T12:43:43.482154Z",
     "iopub.status.busy": "2024-04-16T12:43:43.481042Z",
     "iopub.status.idle": "2024-04-16T12:43:43.490912Z",
     "shell.execute_reply": "2024-04-16T12:43:43.489774Z"
    },
    "id": "BU35ZXaKP_6h",
    "papermill": {
     "duration": 0.042528,
     "end_time": "2024-04-16T12:43:43.493884",
     "exception": false,
     "start_time": "2024-04-16T12:43:43.451356",
     "status": "completed"
    },
    "tags": []
   },
   "outputs": [
    {
     "name": "stdout",
     "output_type": "stream",
     "text": [
      "Proporcional de clientes adimplentes com e sem valores nulos\n",
      "A proporcão adimplentes ativos é de 83.93%\n",
      "A nova proporcão de clientes adimplentes é de 84.28%\n",
      "\n",
      "Proporcional de clientes inadimplentes com e sem valores nulos\n",
      "A proporcão clientes inadimplentes é de 16.07%\n",
      "A nova proporcão de clientes inadimplentes é de 15.72%\n"
     ]
    }
   ],
   "source": [
    "print('Proporcional de clientes adimplentes com e sem valores nulos')\n",
    "print(f\"A proporcão adimplentes ativos é de {round(100 * qtd_adimplentes / qtd_total, 2)}%\")\n",
    "print(f\"A nova proporcão de clientes adimplentes é de {round(100 * qtd_adimplentes_novo / qtd_total_novo, 2)}%\")\n",
    "print(\"\")\n",
    "print('Proporcional de clientes inadimplentes com e sem valores nulos')\n",
    "print(f\"A proporcão clientes inadimplentes é de {round(100 * qtd_inadimplentes / qtd_total, 2)}%\")\n",
    "print(f\"A nova proporcão de clientes inadimplentes é de {round(100 * qtd_inadimplentes_novo / qtd_total_novo, 2)}%\")"
   ]
  },
  {
   "cell_type": "markdown",
   "id": "e35fd972",
   "metadata": {
    "id": "iJTgUJqpPKJ3",
    "papermill": {
     "duration": 0.027343,
     "end_time": "2024-04-16T12:43:43.549428",
     "exception": false,
     "start_time": "2024-04-16T12:43:43.522085",
     "status": "completed"
    },
    "tags": []
   },
   "source": [
    "## 4\\. Visualização de dados"
   ]
  },
  {
   "cell_type": "code",
   "execution_count": 28,
   "id": "b7d07144",
   "metadata": {
    "execution": {
     "iopub.execute_input": "2024-04-16T12:43:43.601096Z",
     "iopub.status.busy": "2024-04-16T12:43:43.600314Z",
     "iopub.status.idle": "2024-04-16T12:43:43.615735Z",
     "shell.execute_reply": "2024-04-16T12:43:43.614097Z"
    },
    "papermill": {
     "duration": 0.044931,
     "end_time": "2024-04-16T12:43:43.619124",
     "exception": false,
     "start_time": "2024-04-16T12:43:43.574193",
     "status": "completed"
    },
    "tags": []
   },
   "outputs": [],
   "source": [
    "# Função para criar histograma das colunas categóricas\n",
    "def hist_object(df, df_adimplente, df_inadimplente, coluna, titulos, rotation):\n",
    "    \n",
    "    eixo = 0\n",
    "    max_y = 0\n",
    "    max = df.select_dtypes('object').describe()[coluna]['freq'] * 1.1\n",
    "\n",
    "    figura, eixos = plt.subplots(1,3, figsize=(20, 5), sharex=True)\n",
    "\n",
    "    for dataframe in [df, df_adimplente, df_inadimplente]:\n",
    "\n",
    "        df_to_plot = dataframe[coluna].value_counts().to_frame()\n",
    "        df_to_plot.rename(columns={'count': 'frequencia_absoluta'}, inplace=True)\n",
    "        df_to_plot.sort_values(by=[coluna], inplace=True)\n",
    "        df_to_plot.sort_values(by=[coluna])\n",
    "        df_to_plot.reset_index(inplace=True)\n",
    "\n",
    "        f = sns.barplot(x=df_to_plot[coluna], y=df_to_plot['frequencia_absoluta'], ax=eixos[eixo])\n",
    "        f.set(title=titulos[eixo], xlabel=coluna.capitalize(), ylabel='Frequencia Absoluta')\n",
    "        f.set_xticklabels(labels=f.get_xticklabels(), rotation=rotation)\n",
    "\n",
    "        _, max_y_f = f.get_ylim()\n",
    "        max_y = max_y_f if max_y_f > max_y else max_y\n",
    "        f.set(ylim=(0, max_y))\n",
    "        eixo += 1\n",
    "\n",
    "    figura.show()\n",
    "\n",
    "# Função para crar histograma das colunas numéricas\n",
    "def hist_numeric(df, df_adimplente, df_inadimplente, coluna, titulos):\n",
    "\n",
    "    eixo = 0\n",
    "    max_y = 0\n",
    "    figura, eixos = plt.subplots(1,3, figsize=(20, 5), sharex=True)\n",
    "\n",
    "    for dataframe in [df, df_adimplente, df_inadimplente]:\n",
    "\n",
    "      f = sns.histplot(x=coluna, data=dataframe, stat='count', ax=eixos[eixo])\n",
    "      f.set(title=titulos[eixo], xlabel=coluna.capitalize(), ylabel='Frequência Absoluta')\n",
    "\n",
    "      _, max_y_f = f.get_ylim()\n",
    "      max_y = max_y_f if max_y_f > max_y else max_y\n",
    "      f.set(ylim=(0, max_y))\n",
    "\n",
    "      eixo += 1\n",
    "\n",
    "    figura.show()"
   ]
  },
  {
   "cell_type": "code",
   "execution_count": 29,
   "id": "fa900cba",
   "metadata": {
    "execution": {
     "iopub.execute_input": "2024-04-16T12:43:43.670721Z",
     "iopub.status.busy": "2024-04-16T12:43:43.670287Z",
     "iopub.status.idle": "2024-04-16T12:43:43.678263Z",
     "shell.execute_reply": "2024-04-16T12:43:43.677041Z"
    },
    "id": "duYfStSTSs4f",
    "papermill": {
     "duration": 0.036884,
     "end_time": "2024-04-16T12:43:43.680690",
     "exception": false,
     "start_time": "2024-04-16T12:43:43.643806",
     "status": "completed"
    },
    "tags": []
   },
   "outputs": [],
   "source": [
    "df_adimplente = df[df['default'] == 0]"
   ]
  },
  {
   "cell_type": "code",
   "execution_count": 30,
   "id": "98493b64",
   "metadata": {
    "execution": {
     "iopub.execute_input": "2024-04-16T12:43:43.731421Z",
     "iopub.status.busy": "2024-04-16T12:43:43.731009Z",
     "iopub.status.idle": "2024-04-16T12:43:43.738470Z",
     "shell.execute_reply": "2024-04-16T12:43:43.736912Z"
    },
    "id": "ldEBuNiiSxVE",
    "papermill": {
     "duration": 0.035876,
     "end_time": "2024-04-16T12:43:43.741086",
     "exception": false,
     "start_time": "2024-04-16T12:43:43.705210",
     "status": "completed"
    },
    "tags": []
   },
   "outputs": [],
   "source": [
    "df_inadimplente = df[df['default'] == 1]"
   ]
  },
  {
   "cell_type": "markdown",
   "id": "f165d853",
   "metadata": {
    "id": "u9kFH-ADSEVO",
    "papermill": {
     "duration": 0.02463,
     "end_time": "2024-04-16T12:43:43.790231",
     "exception": false,
     "start_time": "2024-04-16T12:43:43.765601",
     "status": "completed"
    },
    "tags": []
   },
   "source": [
    "### **4.1. Visualizações categóricas** "
   ]
  },
  {
   "cell_type": "code",
   "execution_count": 31,
   "id": "7616043e",
   "metadata": {
    "execution": {
     "iopub.execute_input": "2024-04-16T12:43:43.841579Z",
     "iopub.status.busy": "2024-04-16T12:43:43.841213Z",
     "iopub.status.idle": "2024-04-16T12:43:43.854666Z",
     "shell.execute_reply": "2024-04-16T12:43:43.853442Z"
    },
    "id": "O2bBTZ2PS85K",
    "papermill": {
     "duration": 0.041979,
     "end_time": "2024-04-16T12:43:43.857396",
     "exception": false,
     "start_time": "2024-04-16T12:43:43.815417",
     "status": "completed"
    },
    "tags": []
   },
   "outputs": [
    {
     "data": {
      "text/html": [
       "<div>\n",
       "<style scoped>\n",
       "    .dataframe tbody tr th:only-of-type {\n",
       "        vertical-align: middle;\n",
       "    }\n",
       "\n",
       "    .dataframe tbody tr th {\n",
       "        vertical-align: top;\n",
       "    }\n",
       "\n",
       "    .dataframe thead th {\n",
       "        text-align: right;\n",
       "    }\n",
       "</style>\n",
       "<table border=\"1\" class=\"dataframe\">\n",
       "  <thead>\n",
       "    <tr style=\"text-align: right;\">\n",
       "      <th></th>\n",
       "      <th>sexo</th>\n",
       "      <th>escolaridade</th>\n",
       "      <th>estado_civil</th>\n",
       "      <th>salario_anual</th>\n",
       "      <th>tipo_cartao</th>\n",
       "    </tr>\n",
       "  </thead>\n",
       "  <tbody>\n",
       "    <tr>\n",
       "      <th>0</th>\n",
       "      <td>M</td>\n",
       "      <td>ensino medio</td>\n",
       "      <td>casado</td>\n",
       "      <td>$60K - $80K</td>\n",
       "      <td>blue</td>\n",
       "    </tr>\n",
       "    <tr>\n",
       "      <th>1</th>\n",
       "      <td>F</td>\n",
       "      <td>mestrado</td>\n",
       "      <td>solteiro</td>\n",
       "      <td>menos que $40K</td>\n",
       "      <td>blue</td>\n",
       "    </tr>\n",
       "    <tr>\n",
       "      <th>2</th>\n",
       "      <td>M</td>\n",
       "      <td>mestrado</td>\n",
       "      <td>casado</td>\n",
       "      <td>$80K - $120K</td>\n",
       "      <td>blue</td>\n",
       "    </tr>\n",
       "    <tr>\n",
       "      <th>4</th>\n",
       "      <td>M</td>\n",
       "      <td>sem educacao formal</td>\n",
       "      <td>casado</td>\n",
       "      <td>$60K - $80K</td>\n",
       "      <td>blue</td>\n",
       "    </tr>\n",
       "    <tr>\n",
       "      <th>5</th>\n",
       "      <td>M</td>\n",
       "      <td>mestrado</td>\n",
       "      <td>casado</td>\n",
       "      <td>$40K - $60K</td>\n",
       "      <td>blue</td>\n",
       "    </tr>\n",
       "  </tbody>\n",
       "</table>\n",
       "</div>"
      ],
      "text/plain": [
       "  sexo         escolaridade estado_civil   salario_anual tipo_cartao\n",
       "0    M         ensino medio       casado     $60K - $80K        blue\n",
       "1    F             mestrado     solteiro  menos que $40K        blue\n",
       "2    M             mestrado       casado    $80K - $120K        blue\n",
       "4    M  sem educacao formal       casado     $60K - $80K        blue\n",
       "5    M             mestrado       casado     $40K - $60K        blue"
      ]
     },
     "execution_count": 31,
     "metadata": {},
     "output_type": "execute_result"
    }
   ],
   "source": [
    "df.select_dtypes('object').head(5)"
   ]
  },
  {
   "cell_type": "markdown",
   "id": "d3d8fcdd",
   "metadata": {
    "id": "v0oeXqxsTO2o",
    "papermill": {
     "duration": 0.024479,
     "end_time": "2024-04-16T12:43:43.907183",
     "exception": false,
     "start_time": "2024-04-16T12:43:43.882704",
     "status": "completed"
    },
    "tags": []
   },
   "source": [
    " - Escolaridade"
   ]
  },
  {
   "cell_type": "code",
   "execution_count": 32,
   "id": "c654a7f0",
   "metadata": {
    "execution": {
     "iopub.execute_input": "2024-04-16T12:43:43.960455Z",
     "iopub.status.busy": "2024-04-16T12:43:43.959728Z",
     "iopub.status.idle": "2024-04-16T12:43:45.063919Z",
     "shell.execute_reply": "2024-04-16T12:43:45.062682Z"
    },
    "papermill": {
     "duration": 1.134393,
     "end_time": "2024-04-16T12:43:45.067088",
     "exception": false,
     "start_time": "2024-04-16T12:43:43.932695",
     "status": "completed"
    },
    "tags": []
   },
   "outputs": [
    {
     "data": {
      "image/png": "[encoded data removed]",
      "text/plain": [
       "<Figure size 2000x500 with 3 Axes>"
      ]
     },
     "metadata": {},
     "output_type": "display_data"
    }
   ],
   "source": [
    "coluna = 'escolaridade'\n",
    "titulos = ['Escolaridade dos Clientes', 'Escolaridade dos Clientes Adimplentes', 'Escolaridade dos Clientes Inadimplentes']\n",
    "\n",
    "hist_object(df, df_adimplente, df_inadimplente, coluna, titulos, 45)"
   ]
  },
  {
   "cell_type": "markdown",
   "id": "c5c144af",
   "metadata": {
    "id": "0h1s5odlgHbY",
    "papermill": {
     "duration": 0.025864,
     "end_time": "2024-04-16T12:43:45.119733",
     "exception": false,
     "start_time": "2024-04-16T12:43:45.093869",
     "status": "completed"
    },
    "tags": []
   },
   "source": [
    " - Salário Anual"
   ]
  },
  {
   "cell_type": "code",
   "execution_count": 33,
   "id": "09ef79fd",
   "metadata": {
    "execution": {
     "iopub.execute_input": "2024-04-16T12:43:45.173826Z",
     "iopub.status.busy": "2024-04-16T12:43:45.173414Z",
     "iopub.status.idle": "2024-04-16T12:43:46.304015Z",
     "shell.execute_reply": "2024-04-16T12:43:46.302760Z"
    },
    "id": "7Lf-X12wgLvJ",
    "papermill": {
     "duration": 1.160665,
     "end_time": "2024-04-16T12:43:46.306790",
     "exception": false,
     "start_time": "2024-04-16T12:43:45.146125",
     "status": "completed"
    },
    "tags": []
   },
   "outputs": [
    {
     "data": {
      "image/png": "[encoded data removed]",
      "text/plain": [
       "<Figure size 2000x500 with 3 Axes>"
      ]
     },
     "metadata": {},
     "output_type": "display_data"
    }
   ],
   "source": [
    "coluna = 'salario_anual'\n",
    "titulos = ['Salário Anual dos Clientes', 'Salário Anual dos Clientes Adimplentes', 'Salário Anual dos Clientes Inadimplentes']\n",
    "\n",
    "hist_object(df, df_adimplente, df_inadimplente, coluna, titulos, 90)"
   ]
  },
  {
   "cell_type": "markdown",
   "id": "068f8dbf",
   "metadata": {
    "papermill": {
     "duration": 0.026358,
     "end_time": "2024-04-16T12:43:46.360213",
     "exception": false,
     "start_time": "2024-04-16T12:43:46.333855",
     "status": "completed"
    },
    "tags": []
   },
   "source": [
    " * Estado Civil"
   ]
  },
  {
   "cell_type": "code",
   "execution_count": 34,
   "id": "11dad6e4",
   "metadata": {
    "execution": {
     "iopub.execute_input": "2024-04-16T12:43:46.417533Z",
     "iopub.status.busy": "2024-04-16T12:43:46.417075Z",
     "iopub.status.idle": "2024-04-16T12:43:47.344459Z",
     "shell.execute_reply": "2024-04-16T12:43:47.343163Z"
    },
    "papermill": {
     "duration": 0.958346,
     "end_time": "2024-04-16T12:43:47.347120",
     "exception": false,
     "start_time": "2024-04-16T12:43:46.388774",
     "status": "completed"
    },
    "tags": []
   },
   "outputs": [
    {
     "data": {
      "image/png": "[encoded data removed]",
      "text/plain": [
       "<Figure size 2000x500 with 3 Axes>"
      ]
     },
     "metadata": {},
     "output_type": "display_data"
    }
   ],
   "source": [
    "coluna = 'estado_civil'\n",
    "titulos = ['Estado civil dos Clientes', 'Estado civil dos Clientes Adimplentes', 'Estado civil dos Clientes Inadimplentes']\n",
    "\n",
    "hist_object(df, df_adimplente, df_inadimplente, coluna, titulos, 90)"
   ]
  },
  {
   "cell_type": "markdown",
   "id": "2f3d2477",
   "metadata": {
    "id": "cBIWU4zISIqR",
    "papermill": {
     "duration": 0.026763,
     "end_time": "2024-04-16T12:43:47.401129",
     "exception": false,
     "start_time": "2024-04-16T12:43:47.374366",
     "status": "completed"
    },
    "tags": []
   },
   "source": [
    "### **4.2. Visualizações numéricas** "
   ]
  },
  {
   "cell_type": "markdown",
   "id": "179604cc",
   "metadata": {
    "id": "DWKf-t4iqpFK",
    "papermill": {
     "duration": 0.026995,
     "end_time": "2024-04-16T12:43:47.455258",
     "exception": false,
     "start_time": "2024-04-16T12:43:47.428263",
     "status": "completed"
    },
    "tags": []
   },
   "source": [
    "Vamos visualizar a relação entre a variável resposta **default** com os atributos numéricos."
   ]
  },
  {
   "cell_type": "code",
   "execution_count": 35,
   "id": "e90dfa7e",
   "metadata": {
    "execution": {
     "iopub.execute_input": "2024-04-16T12:43:47.512160Z",
     "iopub.status.busy": "2024-04-16T12:43:47.511706Z",
     "iopub.status.idle": "2024-04-16T12:43:47.530967Z",
     "shell.execute_reply": "2024-04-16T12:43:47.530085Z"
    },
    "id": "NEEhLdj0qoUd",
    "papermill": {
     "duration": 0.052053,
     "end_time": "2024-04-16T12:43:47.534577",
     "exception": false,
     "start_time": "2024-04-16T12:43:47.482524",
     "status": "completed"
    },
    "tags": []
   },
   "outputs": [
    {
     "data": {
      "text/html": [
       "<div>\n",
       "<style scoped>\n",
       "    .dataframe tbody tr th:only-of-type {\n",
       "        vertical-align: middle;\n",
       "    }\n",
       "\n",
       "    .dataframe tbody tr th {\n",
       "        vertical-align: top;\n",
       "    }\n",
       "\n",
       "    .dataframe thead th {\n",
       "        text-align: right;\n",
       "    }\n",
       "</style>\n",
       "<table border=\"1\" class=\"dataframe\">\n",
       "  <thead>\n",
       "    <tr style=\"text-align: right;\">\n",
       "      <th></th>\n",
       "      <th>idade</th>\n",
       "      <th>dependentes</th>\n",
       "      <th>meses_de_relacionamento</th>\n",
       "      <th>qtd_produtos</th>\n",
       "      <th>iteracoes_12m</th>\n",
       "      <th>meses_inativo_12m</th>\n",
       "      <th>limite_credito</th>\n",
       "      <th>valor_transacoes_12m</th>\n",
       "      <th>qtd_transacoes_12m</th>\n",
       "      <th>Freq</th>\n",
       "    </tr>\n",
       "  </thead>\n",
       "  <tbody>\n",
       "    <tr>\n",
       "      <th>0</th>\n",
       "      <td>45</td>\n",
       "      <td>3</td>\n",
       "      <td>39</td>\n",
       "      <td>5</td>\n",
       "      <td>3</td>\n",
       "      <td>1</td>\n",
       "      <td>12691.51</td>\n",
       "      <td>1144.90</td>\n",
       "      <td>42</td>\n",
       "      <td>1</td>\n",
       "    </tr>\n",
       "    <tr>\n",
       "      <th>1</th>\n",
       "      <td>49</td>\n",
       "      <td>5</td>\n",
       "      <td>44</td>\n",
       "      <td>6</td>\n",
       "      <td>2</td>\n",
       "      <td>1</td>\n",
       "      <td>8256.96</td>\n",
       "      <td>1291.45</td>\n",
       "      <td>33</td>\n",
       "      <td>1</td>\n",
       "    </tr>\n",
       "    <tr>\n",
       "      <th>2</th>\n",
       "      <td>51</td>\n",
       "      <td>3</td>\n",
       "      <td>36</td>\n",
       "      <td>4</td>\n",
       "      <td>0</td>\n",
       "      <td>1</td>\n",
       "      <td>3418.56</td>\n",
       "      <td>1887.72</td>\n",
       "      <td>20</td>\n",
       "      <td>1</td>\n",
       "    </tr>\n",
       "    <tr>\n",
       "      <th>4</th>\n",
       "      <td>40</td>\n",
       "      <td>3</td>\n",
       "      <td>21</td>\n",
       "      <td>5</td>\n",
       "      <td>0</td>\n",
       "      <td>1</td>\n",
       "      <td>4716.22</td>\n",
       "      <td>816.08</td>\n",
       "      <td>28</td>\n",
       "      <td>1</td>\n",
       "    </tr>\n",
       "    <tr>\n",
       "      <th>5</th>\n",
       "      <td>44</td>\n",
       "      <td>2</td>\n",
       "      <td>36</td>\n",
       "      <td>3</td>\n",
       "      <td>2</td>\n",
       "      <td>1</td>\n",
       "      <td>4010.69</td>\n",
       "      <td>1088.07</td>\n",
       "      <td>24</td>\n",
       "      <td>1</td>\n",
       "    </tr>\n",
       "  </tbody>\n",
       "</table>\n",
       "</div>"
      ],
      "text/plain": [
       "   idade  dependentes  meses_de_relacionamento  qtd_produtos  iteracoes_12m  \\\n",
       "0     45            3                       39             5              3   \n",
       "1     49            5                       44             6              2   \n",
       "2     51            3                       36             4              0   \n",
       "4     40            3                       21             5              0   \n",
       "5     44            2                       36             3              2   \n",
       "\n",
       "   meses_inativo_12m  limite_credito  valor_transacoes_12m  \\\n",
       "0                  1        12691.51               1144.90   \n",
       "1                  1         8256.96               1291.45   \n",
       "2                  1         3418.56               1887.72   \n",
       "4                  1         4716.22                816.08   \n",
       "5                  1         4010.69               1088.07   \n",
       "\n",
       "   qtd_transacoes_12m  Freq  \n",
       "0                  42     1  \n",
       "1                  33     1  \n",
       "2                  20     1  \n",
       "4                  28     1  \n",
       "5                  24     1  "
      ]
     },
     "execution_count": 35,
     "metadata": {},
     "output_type": "execute_result"
    }
   ],
   "source": [
    "df.drop(['id', 'default'], axis=1).select_dtypes('number').head(n=5)"
   ]
  },
  {
   "cell_type": "markdown",
   "id": "fcf3b6dd",
   "metadata": {
    "id": "G7YNmSRQq6fp",
    "papermill": {
     "duration": 0.028008,
     "end_time": "2024-04-16T12:43:47.592026",
     "exception": false,
     "start_time": "2024-04-16T12:43:47.564018",
     "status": "completed"
    },
    "tags": []
   },
   "source": [
    " - Quantidade de Transações nos Últimos 12 Meses"
   ]
  },
  {
   "cell_type": "code",
   "execution_count": 36,
   "id": "687c70c0",
   "metadata": {
    "execution": {
     "iopub.execute_input": "2024-04-16T12:43:47.648626Z",
     "iopub.status.busy": "2024-04-16T12:43:47.648227Z",
     "iopub.status.idle": "2024-04-16T12:43:49.093231Z",
     "shell.execute_reply": "2024-04-16T12:43:49.092258Z"
    },
    "id": "A3O0oQ9sq8XQ",
    "papermill": {
     "duration": 1.47641,
     "end_time": "2024-04-16T12:43:49.095742",
     "exception": false,
     "start_time": "2024-04-16T12:43:47.619332",
     "status": "completed"
    },
    "tags": []
   },
   "outputs": [
    {
     "data": {
      "image/png": "[encoded data removed]",
      "text/plain": [
       "<Figure size 2000x500 with 3 Axes>"
      ]
     },
     "metadata": {},
     "output_type": "display_data"
    }
   ],
   "source": [
    "coluna = 'qtd_transacoes_12m'\n",
    "titulos = ['Qtd. de Transações no Último Ano', 'Qtd. de Transações no Último Ano de Adimplentes', 'Qtd. de Transações no Último Ano de Inadimplentes']\n",
    "\n",
    "hist_numeric(df, df_adimplente, df_inadimplente, coluna, titulos)"
   ]
  },
  {
   "cell_type": "markdown",
   "id": "25b47bdd",
   "metadata": {
    "id": "6YqLIvyXtIuN",
    "papermill": {
     "duration": 0.028053,
     "end_time": "2024-04-16T12:43:49.152827",
     "exception": false,
     "start_time": "2024-04-16T12:43:49.124774",
     "status": "completed"
    },
    "tags": []
   },
   "source": [
    " - Valor das Transações nos Últimos 12 Meses"
   ]
  },
  {
   "cell_type": "code",
   "execution_count": 37,
   "id": "4542f3bc",
   "metadata": {
    "execution": {
     "iopub.execute_input": "2024-04-16T12:43:49.211237Z",
     "iopub.status.busy": "2024-04-16T12:43:49.210822Z",
     "iopub.status.idle": "2024-04-16T12:43:51.032296Z",
     "shell.execute_reply": "2024-04-16T12:43:51.031026Z"
    },
    "id": "-tHIbYcetH0J",
    "papermill": {
     "duration": 1.853362,
     "end_time": "2024-04-16T12:43:51.034673",
     "exception": false,
     "start_time": "2024-04-16T12:43:49.181311",
     "status": "completed"
    },
    "tags": []
   },
   "outputs": [
    {
     "data": {
      "image/png": "[encoded data removed]",
      "text/plain": [
       "<Figure size 2000x500 with 3 Axes>"
      ]
     },
     "metadata": {},
     "output_type": "display_data"
    }
   ],
   "source": [
    "coluna = 'valor_transacoes_12m'\n",
    "titulos = ['Valor das Transações no Último Ano', 'Valor das Transações no Último Ano de Adimplentes', 'Valor das Transações no Último Ano de Inadimplentes']\n",
    "\n",
    "hist_numeric(df, df_adimplente, df_inadimplente, coluna, titulos)"
   ]
  },
  {
   "cell_type": "markdown",
   "id": "f10ef432",
   "metadata": {
    "id": "10ud8vxqzqjI",
    "papermill": {
     "duration": 0.030442,
     "end_time": "2024-04-16T12:43:51.095389",
     "exception": false,
     "start_time": "2024-04-16T12:43:51.064947",
     "status": "completed"
    },
    "tags": []
   },
   "source": [
    " - Valor de Transações nos Últimos 12 Meses x Quantidade de Transações nos Últimos 12 Meses"
   ]
  },
  {
   "cell_type": "code",
   "execution_count": 38,
   "id": "78da3513",
   "metadata": {
    "execution": {
     "iopub.execute_input": "2024-04-16T12:43:51.155951Z",
     "iopub.status.busy": "2024-04-16T12:43:51.155539Z",
     "iopub.status.idle": "2024-04-16T12:43:52.834265Z",
     "shell.execute_reply": "2024-04-16T12:43:52.833051Z"
    },
    "id": "SjqqF940x-lL",
    "papermill": {
     "duration": 1.713446,
     "end_time": "2024-04-16T12:43:52.838253",
     "exception": false,
     "start_time": "2024-04-16T12:43:51.124807",
     "status": "completed"
    },
    "tags": []
   },
   "outputs": [
    {
     "data": {
      "image/png": "[encoded data removed]",
      "text/plain": [
       "<Figure size 560.236x500 with 1 Axes>"
      ]
     },
     "metadata": {},
     "output_type": "display_data"
    }
   ],
   "source": [
    "f = sns.relplot(x='valor_transacoes_12m', y='qtd_transacoes_12m', data=df, hue='default')\n",
    "_ = f.set(\n",
    "    title='Relação entre Valor e Quantidade de Transações no Último Ano', \n",
    "    xlabel='Valor das Transações no Último Ano', \n",
    "    ylabel='Quantidade das Transações no Último Ano'\n",
    "  )"
   ]
  },
  {
   "cell_type": "markdown",
   "id": "1ab6f164",
   "metadata": {
    "id": "jtCp7A-6PP28",
    "papermill": {
     "duration": 0.032239,
     "end_time": "2024-04-16T12:43:52.902054",
     "exception": false,
     "start_time": "2024-04-16T12:43:52.869815",
     "status": "completed"
    },
    "tags": []
   },
   "source": [
    "## 5\\. Resumo dos insights "
   ]
  },
  {
   "cell_type": "markdown",
   "id": "d16877b3",
   "metadata": {
    "id": "h9XpS6Vi1DYz",
    "papermill": {
     "duration": 0.032555,
     "end_time": "2024-04-16T12:43:52.965974",
     "exception": false,
     "start_time": "2024-04-16T12:43:52.933419",
     "status": "completed"
    },
    "tags": []
   },
   "source": [
    "* Entre os estados civis dos clientes ativos, os solteiros estão levementes mais elevados, quase se igualando ao número de clientes casados, quando comparado à distribuição para todos os clientes e clientes adimplentes.\n",
    "\n",
    "* O número de transações dos clientes inadimplentes se concentram em torno de 40 transações em um período de 12 meses.\n",
    "\n",
    "* O valor total das transações dos clientes inadimplentes se concentram em torno de 2300 em um período de 12 meses.\n",
    "\n",
    "* Os clientes que transacionam valores acima de 11000 possuem menos chances de se tornarem inadimplentes, visto todas as transações acima desse valor foram de clientes adimplentes.\n",
    "\n",
    "* Os clientes inadimplentes realizam menos transações e em valores menores em um período de 12 meses, que os clientes adimplentes."
   ]
  },
  {
   "cell_type": "markdown",
   "id": "5b00bc93",
   "metadata": {
    "id": "s4yGtBF2pKG0",
    "papermill": {
     "duration": 0.036886,
     "end_time": "2024-04-16T12:43:53.034730",
     "exception": false,
     "start_time": "2024-04-16T12:43:52.997844",
     "status": "completed"
    },
    "tags": []
   },
   "source": [
    "____"
   ]
  }
 ],
 "metadata": {
  "colab": {
   "collapsed_sections": [],
   "name": "module_10_class.ipynb",
   "provenance": [],
   "toc_visible": true
  },
  "kaggle": {
   "accelerator": "none",
   "dataSources": [
    {
     "datasetId": 4764932,
     "sourceId": 8074515,
     "sourceType": "datasetVersion"
    }
   ],
   "dockerImageVersionId": 30684,
   "isGpuEnabled": false,
   "isInternetEnabled": false,
   "language": "python",
   "sourceType": "notebook"
  },
  "kernelspec": {
   "display_name": "Python 3",
   "language": "python",
   "name": "python3"
  },
  "language_info": {
   "codemirror_mode": {
    "name": "ipython",
    "version": 3
   },
   "file_extension": ".py",
   "mimetype": "text/x-python",
   "name": "python",
   "nbconvert_exporter": "python",
   "pygments_lexer": "ipython3",
   "version": "3.10.13"
  },
  "papermill": {
   "default_parameters": {},
   "duration": 19.041951,
   "end_time": "2024-04-16T12:43:53.788975",
   "environment_variables": {},
   "exception": null,
   "input_path": "__notebook__.ipynb",
   "output_path": "__notebook__.ipynb",
   "parameters": {},
   "start_time": "2024-04-16T12:43:34.747024",
   "version": "2.5.0"
  }
 },
 "nbformat": 4,
 "nbformat_minor": 5
}
